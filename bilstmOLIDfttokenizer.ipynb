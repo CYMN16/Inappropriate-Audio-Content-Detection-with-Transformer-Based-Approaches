{
 "cells": [
  {
   "cell_type": "code",
   "execution_count": 1,
   "metadata": {},
   "outputs": [
    {
     "name": "stderr",
     "output_type": "stream",
     "text": [
      "Warning : `load_model` does not return WordVectorModel or SupervisedModel any more, but a `FastText` object which is very similar.\n"
     ]
    }
   ],
   "source": [
    "import fasttext\n",
    "import fasttext.util\n",
    "import numpy as np\n",
    "from sklearn.model_selection import train_test_split\n",
    "import pandas as pd\n",
    "\n",
    "# Load the FastText model\n",
    "fasttext.util.download_model('en', if_exists='ignore')  # Download English model\n",
    "ft = fasttext.load_model('cc.en.300.bin')  # Load the model\n",
    "\n",
    "# Load and shuffle the dataset\n",
    "df = pd.read_csv('datasets/cleaned_OLID.tsv', sep=\"\\t\")\n",
    "df = df.sample(frac=1, random_state=42)\n",
    "\n",
    "tweets = df['tweet'].values\n",
    "labels = df['label'].values\n",
    "\n",
    "# Split the dataset into training and validation sets\n",
    "train_texts, val_texts, train_labels, val_labels = train_test_split(tweets, labels, test_size=0.2, random_state=42)\n",
    "\n",
    "# Tokenize and encode the training and validation texts using FastText\n",
    "def embed_text(text, model):\n",
    "    words = text.split()\n",
    "    word_vectors = [model.get_word_vector(word) for word in words]\n",
    "    return np.mean(word_vectors, axis=0)  # Average word vectors\n",
    "\n",
    "train_encodings = np.array([embed_text(text, ft) for text in train_texts])\n",
    "val_encodings = np.array([embed_text(text, ft) for text in val_texts])\n",
    "\n",
    "# Check the vocabulary size (if needed)\n",
    "vocab_size = len(ft.words)\n",
    "\n",
    "del ft"
   ]
  },
  {
   "cell_type": "code",
   "execution_count": 2,
   "metadata": {},
   "outputs": [],
   "source": [
    "import torch\n",
    "from torch.utils.data import DataLoader, Dataset\n",
    "from torch.nn.utils.rnn import pad_sequence\n",
    "\n",
    "class TweetDataset(Dataset):\n",
    "    def __init__(self, encodings, labels):\n",
    "        self.encodings = encodings\n",
    "        self.labels = labels\n",
    "\n",
    "    def __getitem__(self, idx):\n",
    "        # item = {key: torch.tensor(val[idx]) for key, val in self.encodings.items()}\n",
    "        item = {'embedding': torch.tensor(self.encodings[idx])}\n",
    "        item['labels'] = torch.tensor(self.labels[idx])\n",
    "        return item\n",
    "\n",
    "    def __len__(self):\n",
    "        return len(self.labels)\n",
    "    \n",
    "def collate_fn(batch):\n",
    "    embeddings = [item['embedding'] for item in batch]\n",
    "    labels = torch.tensor([item['labels'] for item in batch])\n",
    "    lengths = torch.tensor([len(embedding) for embedding in embeddings])\n",
    "    padded_embeddings = pad_sequence(embeddings, batch_first=True, padding_value=0.0)\n",
    "    return {'embedding': padded_embeddings, 'labels': labels, 'lengths': lengths}\n",
    "\n",
    "train_dataset = TweetDataset(train_encodings, train_labels)\n",
    "val_dataset = TweetDataset(val_encodings, val_labels)\n",
    "\n",
    "train_loader = DataLoader(train_dataset, batch_size=12, shuffle=True, collate_fn=collate_fn)\n",
    "val_loader = DataLoader(val_dataset, batch_size=12, shuffle=False, collate_fn=collate_fn)"
   ]
  },
  {
   "cell_type": "code",
   "execution_count": 3,
   "metadata": {},
   "outputs": [
    {
     "name": "stdout",
     "output_type": "stream",
     "text": [
      "{'embedding': tensor([[-0.0298,  0.0078,  0.0079,  ...,  0.0884, -0.0307,  0.0182],\n",
      "        [-0.0215, -0.0160, -0.0084,  ...,  0.0778,  0.0072, -0.0055],\n",
      "        [-0.0018, -0.0054, -0.0099,  ...,  0.1580, -0.0416, -0.0010],\n",
      "        ...,\n",
      "        [ 0.0022, -0.0126,  0.0218,  ...,  0.1170, -0.0427, -0.0276],\n",
      "        [-0.0042, -0.0364,  0.0015,  ...,  0.1826, -0.0456,  0.0034],\n",
      "        [-0.0301, -0.1370,  0.0212,  ...,  0.3028, -0.0830,  0.0030]]), 'labels': tensor([1, 0, 0, 0, 0, 1, 1, 1, 1, 0, 0, 0]), 'lengths': tensor([300, 300, 300, 300, 300, 300, 300, 300, 300, 300, 300, 300])}\n"
     ]
    }
   ],
   "source": [
    "for batch in train_loader:\n",
    "    print(batch)\n",
    "    break"
   ]
  },
  {
   "cell_type": "code",
   "execution_count": 4,
   "metadata": {},
   "outputs": [
    {
     "name": "stderr",
     "output_type": "stream",
     "text": [
      "/home/cymn/miniconda3/envs/nvidia/lib/python3.11/site-packages/transformers/utils/generic.py:441: UserWarning: torch.utils._pytree._register_pytree_node is deprecated. Please use torch.utils._pytree.register_pytree_node instead.\n",
      "  _torch_pytree._register_pytree_node(\n"
     ]
    },
    {
     "name": "stdout",
     "output_type": "stream",
     "text": [
      "Epoch [1/3], Average Loss: 0.5824\n",
      "Epoch [2/3], Average Loss: 0.5400\n",
      "Epoch [3/3], Average Loss: 0.5217\n"
     ]
    }
   ],
   "source": [
    "import torch\n",
    "import torch.nn as nn\n",
    "import torch.optim as optim\n",
    "import numpy as np\n",
    "# LSTM Model\n",
    "class LSTMModel(nn.Module):\n",
    "    def __init__(self, input_size, hidden_size, output_size, num_layers):\n",
    "        super(LSTMModel, self).__init__()\n",
    "        self.hidden_size = hidden_size\n",
    "        self.lstm = nn.LSTM(input_size, hidden_size, num_layers, batch_first=True, bidirectional=True)\n",
    "        self.fc = nn.Linear(hidden_size * 2, output_size)\n",
    "        self.sigmoid = nn.Sigmoid()\n",
    "        \n",
    "    def forward(self, embeddings):\n",
    "        lstm_out, _ = self.lstm(embeddings)\n",
    "\n",
    "        # lstm_out = torch.cat((lstm_out[:, -1, :self.hidden_size], lstm_out[:, 0, self.hidden_size:]), dim=1)\n",
    "        out = self.fc(lstm_out)\n",
    "        return self.sigmoid(out)\n",
    "\n",
    "# Model setup\n",
    "input_size = 300  # FastText embedding size\n",
    "hidden_size = 512\n",
    "output_size = 1\n",
    "model = LSTMModel(input_size, hidden_size, output_size, num_layers=2)\n",
    "criterion = nn.BCELoss()\n",
    "optimizer = optim.Adam(model.parameters(), lr=0.001)\n",
    "\n",
    "device = torch.device('cuda' if torch.cuda.is_available() else 'cpu')\n",
    "model.to(device)\n",
    "# Training\n",
    "num_epochs = 3\n",
    "for epoch in range(num_epochs):\n",
    "    model.train()\n",
    "    total_loss = 0\n",
    "    for batch in train_loader:\n",
    "        # input_ids = batch['input_ids'].to(device)\n",
    "        embeddings = batch['embedding'].to(device)\n",
    "        labels = batch['labels'].float().to(device)\n",
    "        labels = labels.squeeze()\n",
    "        # lengths = batch['lengths']\n",
    "        # attention_mask = batch['attention_mask'].to(device)\n",
    "        \n",
    "        optimizer.zero_grad()\n",
    "        outputs = model(embeddings)\n",
    "        outputs = outputs.squeeze()\n",
    "\n",
    "        loss = criterion(outputs, labels)\n",
    "        loss.backward()\n",
    "        optimizer.step()\n",
    "        total_loss += loss.item()\n",
    "    average_loss = total_loss / len(train_loader)\n",
    "    print(f\"Epoch [{epoch+1}/{num_epochs}], Average Loss: {average_loss:.4f}\")"
   ]
  },
  {
   "cell_type": "code",
   "execution_count": 5,
   "metadata": {},
   "outputs": [
    {
     "name": "stdout",
     "output_type": "stream",
     "text": [
      "start\n",
      "end\n",
      "Validation Accuracy: 0.7552870090634441\n"
     ]
    }
   ],
   "source": [
    "import numpy as np\n",
    "import time\n",
    "# Evaluation\n",
    "model.eval()\n",
    "# Perform evaluation on validation set and calculate metrics as needed\n",
    "# Example: calculate accuracy\n",
    "correct = 0\n",
    "total = 0\n",
    "i = 0\n",
    "prediction_list = np.array([])\n",
    "\n",
    "with torch.no_grad():\n",
    "    test_start  = time.time()\n",
    "    print('start')\n",
    "    for batch in val_loader:\n",
    "        # input_ids = batch['input_ids'].to(device)\n",
    "        embeddings = batch['embedding'].to(device)\n",
    "\n",
    "        labels = batch['labels'].float()\n",
    "        # attention_mask = batch['attention_mask'].to(device)\n",
    "\n",
    "        outputs = model(embeddings).detach().cpu()\n",
    "        predictions = torch.round(outputs.squeeze())\n",
    "        correct += ((outputs.squeeze() > 0.5) == labels).sum().item()\n",
    "\n",
    "        total += labels.size(0)\n",
    "        prediction_list = np.append(prediction_list, predictions.numpy())\n",
    "    print('end')\n",
    "    \n",
    "    test_end = time.time()\n",
    "\n",
    "accuracy = correct / total\n",
    "print(f'Validation Accuracy: {accuracy}')\n"
   ]
  },
  {
   "cell_type": "code",
   "execution_count": 6,
   "metadata": {},
   "outputs": [],
   "source": [
    "torch.save(model.state_dict(), 'models/OLID_bilstm.pth')"
   ]
  },
  {
   "cell_type": "code",
   "execution_count": 7,
   "metadata": {},
   "outputs": [
    {
     "name": "stdout",
     "output_type": "stream",
     "text": [
      "LSTMModel(\n",
      "  (lstm): LSTM(300, 512, num_layers=2, batch_first=True, bidirectional=True)\n",
      "  (fc): Linear(in_features=1024, out_features=1, bias=True)\n",
      "  (sigmoid): Sigmoid()\n",
      ")\n"
     ]
    }
   ],
   "source": [
    "print(model)"
   ]
  },
  {
   "cell_type": "code",
   "execution_count": 8,
   "metadata": {},
   "outputs": [
    {
     "name": "stdout",
     "output_type": "stream",
     "text": [
      "              precision    recall  f1-score   support\n",
      "\n",
      "           0       0.76      0.92      0.83      1764\n",
      "           1       0.72      0.43      0.54       884\n",
      "\n",
      "    accuracy                           0.76      2648\n",
      "   macro avg       0.74      0.67      0.69      2648\n",
      "weighted avg       0.75      0.76      0.74      2648\n",
      "\n"
     ]
    }
   ],
   "source": [
    "from sklearn.metrics import classification_report\n",
    "\n",
    "# Assuming you have the true labels in `val_labels` and the predicted labels in `prediction_list`\n",
    "report = classification_report(val_labels, prediction_list)\n",
    "\n",
    "print(report)"
   ]
  },
  {
   "cell_type": "code",
   "execution_count": 9,
   "metadata": {},
   "outputs": [
    {
     "name": "stdout",
     "output_type": "stream",
     "text": [
      "True Positives (TP): 382\n",
      "True Negatives (TN): 1618\n",
      "False Positives (FP): 146\n",
      "False Negatives (FN): 502\n"
     ]
    }
   ],
   "source": [
    "from sklearn.metrics import confusion_matrix\n",
    "\n",
    "# Assuming you have the true labels in `val_labels` and the predicted labels in `prediction_list`\n",
    "cm = confusion_matrix(val_labels, prediction_list)\n",
    "\n",
    "# Extract TP, TN, FP, FN from the confusion matrix\n",
    "TP = cm[1, 1]\n",
    "TN = cm[0, 0]\n",
    "FP = cm[0, 1]\n",
    "FN = cm[1, 0]\n",
    "\n",
    "print(f\"True Positives (TP): {TP}\")\n",
    "print(f\"True Negatives (TN): {TN}\")\n",
    "print(f\"False Positives (FP): {FP}\")\n",
    "print(f\"False Negatives (FN): {FN}\")\n"
   ]
  },
  {
   "cell_type": "code",
   "execution_count": 10,
   "metadata": {},
   "outputs": [],
   "source": [
    "# import pandas as pd\n",
    "\n",
    "# # Create a DataFrame with the validation texts and labels\n",
    "# validation_df = pd.DataFrame({'text': val_texts, 'label': val_labels})\n",
    "\n",
    "# # Add the prediction list as a new column to the DataFrame\n",
    "# validation_df['prediction'] = prediction_list\n",
    "\n",
    "# # Save the DataFrame as a CSV file\n",
    "# validation_df.to_csv('OLID_validation_with_predictions.csv', index=False)\n"
   ]
  }
 ],
 "metadata": {
  "kernelspec": {
   "display_name": "Python 3",
   "language": "python",
   "name": "python3"
  },
  "language_info": {
   "codemirror_mode": {
    "name": "ipython",
    "version": 3
   },
   "file_extension": ".py",
   "mimetype": "text/x-python",
   "name": "python",
   "nbconvert_exporter": "python",
   "pygments_lexer": "ipython3",
   "version": "3.1.undefined"
  }
 },
 "nbformat": 4,
 "nbformat_minor": 2
}
