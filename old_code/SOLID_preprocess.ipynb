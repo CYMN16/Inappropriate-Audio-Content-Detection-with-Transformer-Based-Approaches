{
 "cells": [
  {
   "cell_type": "code",
   "execution_count": 1,
   "metadata": {},
   "outputs": [
    {
     "name": "stderr",
     "output_type": "stream",
     "text": [
      "/home/cymn/miniconda3/envs/nvidia/lib/python3.11/site-packages/transformers/utils/generic.py:441: FutureWarning: `torch.utils._pytree._register_pytree_node` is deprecated. Please use `torch.utils._pytree.register_pytree_node` instead.\n",
      "  _torch_pytree._register_pytree_node(\n"
     ]
    }
   ],
   "source": [
    "import pandas as pd\n",
    "from sklearn.model_selection import train_test_split\n",
    "from transformers import BertTokenizer\n",
    "\n",
    "# tr_offenseval_tweets_df = pd.read_csv('offenseval2020-turkish/offenseval-tr-testset-v1/offenseval-tr-testset-v1.tsv', sep=\"\\t\")\n",
    "# tr_offenseval_labels_df = pd.read_csv('offenseval2020-turkish/offenseval-tr-testset-v1/offenseval-tr-labela-v1.tsv', sep=\",\")\n",
    "# HSO = pd.read_csv('hatespeech_offensive.csv', sep=',')\n",
    "\n",
    "OLID = pd.read_csv('OLIDv1.0/olid-training-v1.0.tsv', sep=\"\\t\")\n",
    "\n",
    "# Trainer (has labels)\n",
    "# trainer_tweets_df = pd.read_csv('extended_test_SOLID/test_a_tweets_all.tsv', sep=\"\\t\")\n",
    "# trainer_labels_df = pd.read_csv('extended_test_SOLID/test_a_labels_all.csv', sep=\",\")\n",
    "\n",
    "# Unsupervised learner (no labels)\n",
    "# learner_tweets_df = pd.read_csv('SOLID_tweets_task_a_distant.tsv', sep=\"\\t\")"
   ]
  },
  {
   "cell_type": "code",
   "execution_count": 4,
   "metadata": {},
   "outputs": [
    {
     "data": {
      "text/plain": [
       "array(['@USER She should ask a few native Americans what their take on this is.',\n",
       "       '@USER @USER Go home you’re drunk!!! @USER #MAGA #Trump2020 👊🇺🇸👊 URL',\n",
       "       'Amazon is investigating Chinese employees who are selling internal data to third-party sellers looking for an edge in the competitive marketplace. URL #Amazon #MAGA #KAG #CHINA #TCOT',\n",
       "       '@USER Someone should\\'veTaken\" this piece of shit to a volcano. 😂\"',\n",
       "       '@USER @USER Obama wanted liberals &amp; illegals to move into red states'],\n",
       "      dtype=object)"
      ]
     },
     "execution_count": 4,
     "metadata": {},
     "output_type": "execute_result"
    }
   ],
   "source": [
    "OLID.head()['tweet'].values"
   ]
  },
  {
   "cell_type": "code",
   "execution_count": 5,
   "metadata": {},
   "outputs": [],
   "source": [
    "\n",
    "def remap_labels(df, col_name):\n",
    "    df[col_name] = df[col_name].map({'OFF': 1, 'NOT': 0})\n",
    "    return df\n",
    "def remap_HSO_labels(df):\n",
    "    df['class'] = df['class'].map({2: 0, 1: 1, 0: 1}) \n",
    "    return df\n",
    "\n",
    "def remap_tweets(df, col_name):\n",
    "    df.loc[:, col_name] = df.loc[:, col_name].str.replace('@USER', '') #Remove mentions (@USER)\n",
    "    df.loc[:, col_name] = df.loc[:, col_name].str.replace('URL', '') #Remove URLs\n",
    "    pat = r'(http|ftp|https):\\/\\/([\\w_-]+(?:(?:\\.[\\w_-]+)+))([\\w.,@?^=%&:\\/~+#-]*[\\w@?^=%&\\/~+#-])' # remove URLS\n",
    "    df.loc[:, col_name] = df.loc[:, col_name].str.replace(pat, ' ', regex=True)\n",
    "    df.loc[:, col_name] = df.loc[:, col_name].str.replace('&amp', 'and') #Replace ampersand (&) with and\n",
    "    df.loc[:, col_name] = df.loc[:, col_name].str.replace('&lt','') #Remove &lt\n",
    "    df.loc[:, col_name] = df.loc[:, col_name].str.replace('&gt','') #Remove &gt\n",
    "    df.loc[:, col_name] = df.loc[:, col_name].str.replace('\\n',' ') #Remove \\n\n",
    "    df.loc[:, col_name] = df.loc[:, col_name].str.replace('\\d+','', regex=True) #Remove numbers\n",
    "    pat = r'[^\\w\\s]' # remove the emojis and other special characters\n",
    "    df.loc[:, col_name] = df.loc[:, col_name].str.replace(pat, '', regex=True)\n",
    "    #remove white space before and after the tweet\n",
    "    df.loc[:, col_name] = df.loc[:, col_name].str.strip()\n",
    "    df.loc[:, col_name] = df.loc[:, col_name].str.lower() #Lowercase\n",
    "    \n",
    "    # not needed outside of english\n",
    "    contractions_dict = {\n",
    "        r\"\\bive\\b\": \"i have\",\n",
    "        r\"\\byoure\\b\": \"you are\",\n",
    "        r\"\\bitd\\b\": \"it would\",\n",
    "        r\"\\bcant\\b\": \"cannot\",\n",
    "        r\"\\bdont\\b\": \"do not\",\n",
    "        r\"\\bwont\\b\": \"will not\",\n",
    "        r\"\\btho\\b\": \"though\",\n",
    "        r\"\\bim\\b\": \"i am\",\n",
    "        r\"\\bhes\\b\": \"he is\",\n",
    "        r\"\\bshes\\b\": \"she is\",\n",
    "        r\"\\bits\\b\": \"it is\",\n",
    "        r\"\\bwere\\b\": \"we are\",\n",
    "        r\"\\btheyre\\b\": \"they are\",\n",
    "        r\"\\bshouldnt\\b\": \"should not\",\n",
    "        r\"\\bwouldnt\\b\": \"would not\",\n",
    "        r\"\\bcouldnt\\b\": \"could not\",\n",
    "        r\"\\bisnt\\b\": \"is not\",\n",
    "        r\"\\barent\\b\": \"are not\",\n",
    "        r\"\\bhavent\\b\": \"have not\",\n",
    "        r\"\\bhasnt\\b\": \"has not\",\n",
    "        r\"\\bhadnt\\b\": \"had not\",\n",
    "        r\"\\bwasnt\\b\": \"was not\",\n",
    "        r\"\\bwerent\\b\": \"were not\"\n",
    "    }\n",
    "    \n",
    "    # df[col_name] = df[col_name].replace(contractions_dict, regex=True) # Replace some popular contractions\n",
    "    \n",
    "    \n",
    "    return df"
   ]
  },
  {
   "cell_type": "code",
   "execution_count": 6,
   "metadata": {},
   "outputs": [],
   "source": [
    "# trainer_labels_df = remap_labels(trainer_labels_df, 'label')\n",
    "# trainer_tweets_df = remap_tweets(trainer_tweets_df, 'tweet')\n",
    "# learner_tweets_df = remap_tweets(learner_tweets_df, 'text')\n",
    "OLID = remap_labels(OLID, 'subtask_a')\n",
    "OLID = remap_tweets(OLID, 'tweet')\n",
    "# tr_offenseval_labels_df = remap_labels(tr_offenseval_labels_df, 'label')\n",
    "# tr_offenseval_tweets_df = remap_tweets(tr_offenseval_tweets_df, 'tweet')\n",
    "\n",
    "# HSO_df = remap_HSO_labels(HSO)\n",
    "# HSO_df = remap_tweets(HSO, 'tweet')\n"
   ]
  },
  {
   "cell_type": "code",
   "execution_count": 7,
   "metadata": {},
   "outputs": [],
   "source": [
    "OLID.rename(columns={'subtask_a': 'label'}, inplace=True)\n",
    "# tr_offenseval_df.rename(columns={'subtask_a': 'label'}, inplace=True)\n",
    "# HSO_df.rename(columns={'class': 'label'}, inplace=True)\n"
   ]
  },
  {
   "cell_type": "code",
   "execution_count": 44,
   "metadata": {},
   "outputs": [],
   "source": [
    "# OLID.to_csv('datasets/cleaned_OLID.tsv', sep='\\t', index=False)\n",
    "# trainer_df = trainer_tweets_df.merge(trainer_labels_df, on='id')\n",
    "# trainer_df = trainer_tweets_df.merge(trainer_labels_df, on='id')\n",
    "# tr_offenseval_test_df = tr_offenseval_tweets_df.merge(tr_offenseval_labels_df, on='id')\n",
    "# HSO_df = HSO_df.drop(columns=['count','hate_speech','offensive_language','neither'])\n",
    "\n",
    "# trainer_df.to_csv('datasets/cleaned_SOLIDtest6K_trainer.tsv', sep='\\t', index=False)\n",
    "# learner_tweets_df.to_csv('datasets/cleaned_SOLID9M_learner.tsv', sep='\\t',index=False)\n",
    "# HSO_df.to_csv('datasets/cleaned_hatespeech_offensive.tsv', sep='\\t',index=False)\n",
    "\n"
   ]
  },
  {
   "cell_type": "code",
   "execution_count": 8,
   "metadata": {},
   "outputs": [
    {
     "data": {
      "text/plain": [
       "array(['she should ask a few native americans what their take on this is',\n",
       "       'go home youre drunk  maga trump',\n",
       "       'amazon is investigating chinese employees who are selling internal data to thirdparty sellers looking for an edge in the competitive marketplace  amazon maga kag china tcot',\n",
       "       'someone shouldvetaken this piece of shit to a volcano',\n",
       "       'obama wanted liberals and illegals to move into red states',\n",
       "       'liberals are all kookoo', 'oh noes tough shit',\n",
       "       'was literally just talking about this lol all mass shootings like that have been set ups its propaganda used to divide us on major issues like gun control and terrorism',\n",
       "       'buy more icecream',\n",
       "       'canada doesnt need another cuck we already have enough looneyleft liberals fking up our great country qproofs trudeaumustgo',\n",
       "       'its not my fault you support gun control',\n",
       "       'whats the difference between kavanaugh and    one of these men admitted to groping a  year old girl years ago  the other is going to be confirmed to the scj   demsarefrauds demsaredone   walkawaydemocrats redwave voteredsaveamerica trumptrain maga'],\n",
       "      dtype=object)"
      ]
     },
     "execution_count": 8,
     "metadata": {},
     "output_type": "execute_result"
    }
   ],
   "source": [
    "OLID.head(12)['tweet'].values"
   ]
  }
 ],
 "metadata": {
  "kernelspec": {
   "display_name": "nvidia",
   "language": "python",
   "name": "python3"
  },
  "language_info": {
   "codemirror_mode": {
    "name": "ipython",
    "version": 3
   },
   "file_extension": ".py",
   "mimetype": "text/x-python",
   "name": "python",
   "nbconvert_exporter": "python",
   "pygments_lexer": "ipython3",
   "version": "3.1.undefined"
  }
 },
 "nbformat": 4,
 "nbformat_minor": 2
}
