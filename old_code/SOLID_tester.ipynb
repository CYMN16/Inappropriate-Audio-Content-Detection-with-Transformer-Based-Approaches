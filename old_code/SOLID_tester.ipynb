{
 "cells": [
  {
   "cell_type": "code",
   "execution_count": 4,
   "metadata": {},
   "outputs": [],
   "source": [
    "import pandas as pd\n",
    "\n",
    "# Unsupervised learner (no labels)\n",
    "learner_tweets_df = pd.read_csv('datasets/cleaned_SOLID9M_learner.tsv', sep=\"\\t\")"
   ]
  },
  {
   "cell_type": "code",
   "execution_count": 14,
   "metadata": {},
   "outputs": [
    {
     "name": "stdout",
     "output_type": "stream",
     "text": [
      "OFF: 348038\n"
     ]
    }
   ],
   "source": [
    "print(\"OFF:\", learner_tweets_df.where(learner_tweets_df['average'] > 0.8).count().id)"
   ]
  },
  {
   "cell_type": "code",
   "execution_count": 15,
   "metadata": {},
   "outputs": [
    {
     "name": "stdout",
     "output_type": "stream",
     "text": [
      "NOT: 2511753\n"
     ]
    }
   ],
   "source": [
    "print(\"NOT:\",learner_tweets_df.where(learner_tweets_df['average'] < 0.2).count().id)"
   ]
  },
  {
   "cell_type": "code",
   "execution_count": 7,
   "metadata": {},
   "outputs": [
    {
     "data": {
      "text/html": [
       "<div>\n",
       "<style scoped>\n",
       "    .dataframe tbody tr th:only-of-type {\n",
       "        vertical-align: middle;\n",
       "    }\n",
       "\n",
       "    .dataframe tbody tr th {\n",
       "        vertical-align: top;\n",
       "    }\n",
       "\n",
       "    .dataframe thead th {\n",
       "        text-align: right;\n",
       "    }\n",
       "</style>\n",
       "<table border=\"1\" class=\"dataframe\">\n",
       "  <thead>\n",
       "    <tr style=\"text-align: right;\">\n",
       "      <th></th>\n",
       "      <th>id</th>\n",
       "      <th>text</th>\n",
       "      <th>average</th>\n",
       "      <th>std</th>\n",
       "    </tr>\n",
       "  </thead>\n",
       "  <tbody>\n",
       "    <tr>\n",
       "      <th>0</th>\n",
       "      <td>1159533701270663168</td>\n",
       "      <td>too much thoughts inside his headdd we cannot ...</td>\n",
       "      <td>0.305954</td>\n",
       "      <td>0.163951</td>\n",
       "    </tr>\n",
       "    <tr>\n",
       "      <th>1</th>\n",
       "      <td>1159533701283352576</td>\n",
       "      <td>first time i heard his name in camp he seems t...</td>\n",
       "      <td>0.194293</td>\n",
       "      <td>0.184831</td>\n",
       "    </tr>\n",
       "    <tr>\n",
       "      <th>2</th>\n",
       "      <td>1159533703522992128</td>\n",
       "      <td>when i go to drink with tsubaki he would alway...</td>\n",
       "      <td>0.295330</td>\n",
       "      <td>0.161962</td>\n",
       "    </tr>\n",
       "    <tr>\n",
       "      <th>3</th>\n",
       "      <td>1159533703758061570</td>\n",
       "      <td>his ass need to stay up</td>\n",
       "      <td>0.833349</td>\n",
       "      <td>0.140700</td>\n",
       "    </tr>\n",
       "    <tr>\n",
       "      <th>4</th>\n",
       "      <td>1159533703904800769</td>\n",
       "      <td>most important tweet of the day  fuck donald t...</td>\n",
       "      <td>0.564527</td>\n",
       "      <td>0.187683</td>\n",
       "    </tr>\n",
       "  </tbody>\n",
       "</table>\n",
       "</div>"
      ],
      "text/plain": [
       "                    id                                               text  \\\n",
       "0  1159533701270663168  too much thoughts inside his headdd we cannot ...   \n",
       "1  1159533701283352576  first time i heard his name in camp he seems t...   \n",
       "2  1159533703522992128  when i go to drink with tsubaki he would alway...   \n",
       "3  1159533703758061570                            his ass need to stay up   \n",
       "4  1159533703904800769  most important tweet of the day  fuck donald t...   \n",
       "\n",
       "    average       std  \n",
       "0  0.305954  0.163951  \n",
       "1  0.194293  0.184831  \n",
       "2  0.295330  0.161962  \n",
       "3  0.833349  0.140700  \n",
       "4  0.564527  0.187683  "
      ]
     },
     "execution_count": 7,
     "metadata": {},
     "output_type": "execute_result"
    }
   ],
   "source": [
    "learner_tweets_df.head()"
   ]
  },
  {
   "cell_type": "code",
   "execution_count": 13,
   "metadata": {},
   "outputs": [],
   "source": [
    "possibly_offensive = learner_tweets_df.where(learner_tweets_df['average'] > 0.5)"
   ]
  },
  {
   "cell_type": "code",
   "execution_count": 14,
   "metadata": {},
   "outputs": [
    {
     "data": {
      "text/plain": [
       "(9073396, 4)"
      ]
     },
     "execution_count": 14,
     "metadata": {},
     "output_type": "execute_result"
    }
   ],
   "source": [
    "possibly_offensive.shape"
   ]
  }
 ],
 "metadata": {
  "kernelspec": {
   "display_name": "nvidia",
   "language": "python",
   "name": "python3"
  },
  "language_info": {
   "codemirror_mode": {
    "name": "ipython",
    "version": 3
   },
   "file_extension": ".py",
   "mimetype": "text/x-python",
   "name": "python",
   "nbconvert_exporter": "python",
   "pygments_lexer": "ipython3",
   "version": "3.11.5"
  }
 },
 "nbformat": 4,
 "nbformat_minor": 2
}
