{
 "cells": [
  {
   "cell_type": "code",
   "execution_count": 1,
   "metadata": {},
   "outputs": [
    {
     "name": "stderr",
     "output_type": "stream",
     "text": [
      "/home/cymn/miniconda3/envs/nvidia-newest/lib/python3.12/site-packages/tqdm/auto.py:21: TqdmWarning: IProgress not found. Please update jupyter and ipywidgets. See https://ipywidgets.readthedocs.io/en/stable/user_install.html\n",
      "  from .autonotebook import tqdm as notebook_tqdm\n"
     ]
    }
   ],
   "source": [
    "import pandas as pd\n",
    "from sklearn.model_selection import train_test_split\n",
    "from transformers import BertTokenizer\n",
    "from transformers import AutoTokenizer\n",
    "import time\n",
    "import_start = time.time()\n",
    "# Load dataset\n",
    "# df = pd.read_csv('datasets/cleaned_OLID.tsv', sep=\"\\t\")\n",
    "df = pd.read_csv('datasets/cleaned_SOLIDtest6K_trainer.tsv', sep='\\t')\n",
    "# df = pd.read_csv('datasets/cleaned_tr_offenseval_test.tsv', sep='\\t')\n",
    "# df = pd.read_csv('datasets/cleaned_hatespeech_offensive.tsv', sep='\\t')\n",
    "import_end = time.time()\n",
    "\n",
    "# Assuming your columns are named 'tweet' and 'class', change accordingly\n",
    "tweets = df['tweet'].values\n",
    "labels_df = df['label'].values\n",
    "\n",
    "\n",
    "# Split the dataset into training and validation sets\n",
    "# _, val_texts, _, val_labels = train_test_split(tweets, labels, test_size=0.9, random_state=42)\n",
    "\n",
    "# val_texts = tweets\n",
    "# Initialize BERT tokenizer\n",
    "\n",
    "tokenizer = BertTokenizer.from_pretrained('bert-base-uncased')\n",
    "\n",
    "# tokenizer = AutoTokenizer.from_pretrained(\"cardiffnlp/twitter-roberta-base-emotion\")\n",
    "\n",
    "# Tokenize and encode the training and validation texts\n",
    "# train_encodings = tokenizer(train_texts.tolist(), truncation=True, padding=True)\n",
    "tokenization_start = time.time()\n",
    "encodings = tokenizer(tweets.tolist(), truncation=True, padding=True)\n",
    "tokenization_end = time.time()\n"
   ]
  },
  {
   "cell_type": "code",
   "execution_count": 2,
   "metadata": {},
   "outputs": [],
   "source": [
    "import torch\n",
    "\n",
    "class TweetDataset(torch.utils.data.Dataset):\n",
    "    def __init__(self, encodings, labels):\n",
    "        self.encodings = encodings\n",
    "        self.labels = labels\n",
    "\n",
    "    def __getitem__(self, idx):\n",
    "        item = {key: torch.tensor(val[idx]) for key, val in self.encodings.items()}\n",
    "        item['labels'] = torch.tensor(self.labels[idx])\n",
    "        return item\n",
    "\n",
    "    def __len__(self):\n",
    "        return len(self.labels)\n",
    "\n",
    "# train_dataset = TweetDataset(train_encodings, train_labels)\n",
    "val_dataset = TweetDataset(encodings, labels_df)\n",
    "\n",
    "# train_loader = torch.utils.data.DataLoader(train_dataset, batch_size=12, shuffle=True)\n",
    "val_loader = torch.utils.data.DataLoader(val_dataset, batch_size=12, shuffle=False)\n"
   ]
  },
  {
   "cell_type": "code",
   "execution_count": 1,
   "metadata": {},
   "outputs": [
    {
     "name": "stderr",
     "output_type": "stream",
     "text": [
      "/home/cymn/miniconda3/envs/nvidia-newest/lib/python3.12/site-packages/tqdm/auto.py:21: TqdmWarning: IProgress not found. Please update jupyter and ipywidgets. See https://ipywidgets.readthedocs.io/en/stable/user_install.html\n",
      "  from .autonotebook import tqdm as notebook_tqdm\n"
     ]
    }
   ],
   "source": [
    "import torch\n",
    "from torch import optim\n",
    "from transformers import BertForSequenceClassification\n",
    "# from transformers import AutoTokenizer, RobertaForSequenceClassification\n",
    "import time\n",
    "# Initialize BERT model for sequence classification\n",
    "# model = RobertaForSequenceClassification.from_pretrained('models/SOLID_semi_RoBERTa_2_cleaned')\n",
    "import_model_start = time.time()\n",
    "\n",
    "model = BertForSequenceClassification.from_pretrained('models/SOLID_BERT_colearning_4')\n",
    "# Define optimizer and learning rate\n",
    "optimizer = optim.AdamW(model.parameters(), lr=1e-5)\n",
    "\n",
    "# Training loop\n",
    "device = torch.device('cuda') if torch.cuda.is_available() else torch.device('cpu')\n",
    "model.to(device)\n",
    "import_model_end = time.time()\n"
   ]
  },
  {
   "cell_type": "code",
   "execution_count": 4,
   "metadata": {},
   "outputs": [
    {
     "name": "stdout",
     "output_type": "stream",
     "text": [
      "start\n",
      "end\n",
      "Validation Accuracy: 0.9202402803270482\n"
     ]
    }
   ],
   "source": [
    "import numpy as np\n",
    "import time\n",
    "# Evaluation\n",
    "model.eval()\n",
    "# Perform evaluation on validation set and calculate metrics as needed\n",
    "# Example: calculate accuracy\n",
    "correct = 0\n",
    "total = 0\n",
    "i = 0\n",
    "prediction_list = np.array([])\n",
    "\n",
    "with torch.no_grad():\n",
    "    test_start  = time.time()\n",
    "    print('start')\n",
    "    for batch in val_loader:\n",
    "        input_ids = batch['input_ids'].to(device)\n",
    "        attention_mask = batch['attention_mask'].to(device)\n",
    "        labels = batch['labels'].to(device)\n",
    "        outputs = model(input_ids, attention_mask=attention_mask)\n",
    "        predictions = torch.argmax(outputs.logits, dim=1)\n",
    "        correct += (predictions == labels).sum().item()\n",
    "        total += labels.size(0)\n",
    "        prediction_list = np.append(prediction_list, predictions.detach().cpu().numpy())\n",
    "    print('end')\n",
    "    \n",
    "    test_end = time.time()\n",
    "\n",
    "accuracy = correct / total\n",
    "print(f'Validation Accuracy: {accuracy}')\n"
   ]
  },
  {
   "cell_type": "markdown",
   "metadata": {},
   "source": [
    "Model: SOLID_finetuneHSO_1\n",
    "\n",
    "Validation dataset: cleaned_SOLIDtest6K_trainer"
   ]
  },
  {
   "cell_type": "code",
   "execution_count": 5,
   "metadata": {},
   "outputs": [],
   "source": [
    "# wrong_indices = [i for i in range(len(labels_df)) if labels_df[i] != prediction_list[i]]\n",
    "\n",
    "# for index in wrong_indices:\n",
    "\n",
    "#     print(f'tweet: {tweets[index]}, prediction {prediction_list[index]}, label {labels_df[index]:f02}')"
   ]
  },
  {
   "cell_type": "code",
   "execution_count": 6,
   "metadata": {},
   "outputs": [],
   "source": [
    "# wrong_indices = [i for i in range(len(labels_df)) if labels_df[i] != prediction_list[i]]\n",
    "\n",
    "# output_results_df = pd.DataFrame(columns=['index', 'tweet', 'prediction', 'label'])\n",
    "\n",
    "# for index in wrong_indices:\n",
    "#     # output_results_df\n",
    "    \n",
    "#     output_results_df.loc[len(output_results_df)] = [index, tweets[index], int(prediction_list[index]), labels_df[index]]\n",
    "#     # pd.concat([output_results_df, {'tweet': tweets[index], 'prediction': prediction_list[index], 'label': labels_df[index]}])\n",
    "#     # print(f'tweet: {tweets[index]}, prediction {prediction_list[index]}, label {labels_df[index]:f02}')\n",
    "\n",
    "# output_results_df.to_csv('./outputs/wr-SOLID_BERT_160k_colearning_5-SOLID_test.tsv', sep='\\t')"
   ]
  },
  {
   "cell_type": "code",
   "execution_count": 3,
   "metadata": {},
   "outputs": [
    {
     "name": "stdout",
     "output_type": "stream",
     "text": [
      "Model import time: 2.0219321250915527\n"
     ]
    }
   ],
   "source": [
    "import_time = import_end - import_start\n",
    "tokenization_time = tokenization_end - tokenization_start\n",
    "import_model_time = import_model_end - import_model_start\n",
    "test_time = test_end - test_start\n",
    "\n",
    "\n",
    "print(f'Import dataset(SOLID test) time: {import_time}')\n",
    "print(f'Tokenization(BERT tokenizer) time: {tokenization_time}')\n",
    "print(f'Model import time: {import_model_time}')\n",
    "print(f'Test time: {test_time}')"
   ]
  },
  {
   "cell_type": "code",
   "execution_count": 8,
   "metadata": {},
   "outputs": [
    {
     "name": "stdout",
     "output_type": "stream",
     "text": [
      "              precision    recall  f1-score   support\n",
      "\n",
      "           0       0.93      0.91      0.92      2991\n",
      "           1       0.91      0.93      0.92      3002\n",
      "\n",
      "    accuracy                           0.92      5993\n",
      "   macro avg       0.92      0.92      0.92      5993\n",
      "weighted avg       0.92      0.92      0.92      5993\n",
      "\n"
     ]
    }
   ],
   "source": [
    "from sklearn.metrics import classification_report\n",
    "\n",
    "# Assuming you have the true labels in `val_labels` and the predicted labels in `prediction_list`\n",
    "report = classification_report(labels_df, prediction_list)\n",
    "\n",
    "print(report)"
   ]
  },
  {
   "cell_type": "code",
   "execution_count": 9,
   "metadata": {},
   "outputs": [
    {
     "name": "stdout",
     "output_type": "stream",
     "text": [
      "True Positives (TP): 2800\n",
      "True Negatives (TN): 2715\n",
      "False Positives (FP): 276\n",
      "False Negatives (FN): 202\n"
     ]
    }
   ],
   "source": [
    "from sklearn.metrics import confusion_matrix\n",
    "\n",
    "# Assuming you have the true labels in `val_labels` and the predicted labels in `prediction_list`\n",
    "cm = confusion_matrix(labels_df, prediction_list)\n",
    "\n",
    "# Extract TP, TN, FP, FN from the confusion matrix\n",
    "TP = cm[1, 1]\n",
    "TN = cm[0, 0]\n",
    "FP = cm[0, 1]\n",
    "FN = cm[1, 0]\n",
    "\n",
    "print(f\"True Positives (TP): {TP}\")\n",
    "print(f\"True Negatives (TN): {TN}\")\n",
    "print(f\"False Positives (FP): {FP}\")\n",
    "print(f\"False Negatives (FN): {FN}\")\n"
   ]
  },
  {
   "cell_type": "code",
   "execution_count": 10,
   "metadata": {},
   "outputs": [],
   "source": [
    "# import pandas as pd\n",
    "\n",
    "# # Create a DataFrame with the validation texts and labels\n",
    "# validation_df = pd.DataFrame({'text': val_texts, 'label': val_labels})\n",
    "\n",
    "# # Add the prediction list as a new column to the DataFrame\n",
    "# validation_df['prediction'] = prediction_list\n",
    "\n",
    "# # Save the DataFrame as a CSV file\n",
    "# validation_df.to_csv('OLID_validation_with_predictions.csv', index=False)\n"
   ]
  }
 ],
 "metadata": {
  "kernelspec": {
   "display_name": "Python 3",
   "language": "python",
   "name": "python3"
  },
  "language_info": {
   "codemirror_mode": {
    "name": "ipython",
    "version": 3
   },
   "file_extension": ".py",
   "mimetype": "text/x-python",
   "name": "python",
   "nbconvert_exporter": "python",
   "pygments_lexer": "ipython3",
   "version": "3.12.2"
  }
 },
 "nbformat": 4,
 "nbformat_minor": 2
}
