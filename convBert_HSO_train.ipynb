{
 "cells": [
  {
   "cell_type": "code",
   "execution_count": 22,
   "metadata": {},
   "outputs": [
    {
     "name": "stdout",
     "output_type": "stream",
     "text": [
      "0.024083375930786133\n"
     ]
    }
   ],
   "source": [
    "import pandas as pd\n",
    "from sklearn.model_selection import train_test_split\n",
    "import time\n",
    "timers = []\n",
    "timers_import_start = time.time() \n",
    "# Trainer (has labels)\n",
    "#trainer_df = pd.read_csv('../datasets/cleaned_SOLIDtest6K_trainer.tsv', sep=\"\\t\")\n",
    "# learner_tweets_df = pd.read_csv('datasets/cleaned_OLID.tsv', sep=\"\\t\")\n",
    "learner_tweets_df = pd.read_csv('../datasets/cleaned_hatespeech_offensive.tsv', sep=\"\\t\")\n",
    "\n",
    "timers_import_end = time.time()\n",
    "print(timers_import_end - timers_import_start)"
   ]
  },
  {
   "cell_type": "code",
   "execution_count": 23,
   "metadata": {},
   "outputs": [],
   "source": [
    "import numpy as np\n",
    "# trainer_labels = trainer_df['label'].values\n",
    "# trainer_tweets = trainer_df['tweet'].values\n",
    "#learner_tweets_df['labels'] = learner_tweets_df['average'].apply(lambda x: 1 if x >= 0.8 else 0) # threshold the average values\n",
    "# learner_tweets_df['subtask_a'] = learner_tweets_df['subtask_a'].map({'OFF': 1, 'NOT': 0})\n",
    "\n",
    "# learner_tweets_df['labels'] = learner_tweets_df[\"subtask_a\"]\n",
    "# learner_tweets_df.drop([\"subtask_a\",\"subtask_b\",\"subtask_c\"], axis=1, inplace=True)\n",
    "# sample_size = 40000\n",
    "positive_ratio = 0.5\n",
    "\n",
    "# Select the most confident positive values\n",
    "#semi_tweets_pos_df = learner_tweets_df[learner_tweets_df['average'] > 0.8].sample(n=np.floor(sample_size*positive_ratio).astype(int), random_state=1)\n",
    "\n",
    "# Select the most confident negative values\n",
    "#semi_tweets_neg_df = learner_tweets_df[learner_tweets_df['average'] < 0.3].sample(n=np.floor(sample_size*(1-positive_ratio)).astype(int), random_state=1)\n",
    "\n",
    "#semi_tweets_df = pd.concat([semi_tweets_pos_df, semi_tweets_neg_df])\n",
    "\n",
    "# Count the number of positive and negative samples\n",
    "positive_samples = learner_tweets_df[learner_tweets_df['label'] == 1]\n",
    "negative_samples = learner_tweets_df[learner_tweets_df['label'] == 0]\n",
    "\n",
    "# Determine the minimum number of samples between the two classes\n",
    "min_samples = min(len(positive_samples), len(negative_samples))\n",
    "\n",
    "# Sample an equal number of positive and negative samples\n",
    "balanced_samples = pd.concat([\n",
    "    positive_samples.sample(n=min_samples, random_state=42),\n",
    "    negative_samples.sample(n=min_samples, random_state=42)\n",
    "])\n",
    "\n",
    "# Update the semi_tweets_df with the balanced samples\n",
    "semi_tweets_df = balanced_samples\n",
    "\n",
    "semi_tweets_df = semi_tweets_df.sample(frac=1, random_state=42)\n",
    "\n",
    "\n",
    "semi_tweets = semi_tweets_df['tweet'].values\n",
    "semi_labels = semi_tweets_df['label'].values\n",
    "\n",
    "X_train, X_test, y_train, y_test = train_test_split(semi_tweets, semi_labels, test_size=0.2)\n",
    "\n"
   ]
  },
  {
   "cell_type": "code",
   "execution_count": 24,
   "metadata": {},
   "outputs": [
    {
     "data": {
      "text/html": [
       "<div>\n",
       "<style scoped>\n",
       "    .dataframe tbody tr th:only-of-type {\n",
       "        vertical-align: middle;\n",
       "    }\n",
       "\n",
       "    .dataframe tbody tr th {\n",
       "        vertical-align: top;\n",
       "    }\n",
       "\n",
       "    .dataframe thead th {\n",
       "        text-align: right;\n",
       "    }\n",
       "</style>\n",
       "<table border=\"1\" class=\"dataframe\">\n",
       "  <thead>\n",
       "    <tr style=\"text-align: right;\">\n",
       "      <th></th>\n",
       "      <th>id</th>\n",
       "      <th>label</th>\n",
       "      <th>tweet</th>\n",
       "    </tr>\n",
       "  </thead>\n",
       "  <tbody>\n",
       "    <tr>\n",
       "      <th>20495</th>\n",
       "      <td>20941</td>\n",
       "      <td>0</td>\n",
       "      <td>real talk not being byes or nothin the whole n...</td>\n",
       "    </tr>\n",
       "    <tr>\n",
       "      <th>15840</th>\n",
       "      <td>16209</td>\n",
       "      <td>1</td>\n",
       "      <td>rt joebudden women all over america are overst...</td>\n",
       "    </tr>\n",
       "    <tr>\n",
       "      <th>16704</th>\n",
       "      <td>17089</td>\n",
       "      <td>1</td>\n",
       "      <td>rt nothinglikeit these hoes getting dressed up...</td>\n",
       "    </tr>\n",
       "    <tr>\n",
       "      <th>2251</th>\n",
       "      <td>2296</td>\n",
       "      <td>1</td>\n",
       "      <td>touchdown with  on the clock  michigan some hoes</td>\n",
       "    </tr>\n",
       "    <tr>\n",
       "      <th>18559</th>\n",
       "      <td>18968</td>\n",
       "      <td>0</td>\n",
       "      <td>rt amyalkon school admins take hungry kids lun...</td>\n",
       "    </tr>\n",
       "    <tr>\n",
       "      <th>9475</th>\n",
       "      <td>9735</td>\n",
       "      <td>0</td>\n",
       "      <td>going up to the view point and seeing star chi...</td>\n",
       "    </tr>\n",
       "    <tr>\n",
       "      <th>5012</th>\n",
       "      <td>5161</td>\n",
       "      <td>0</td>\n",
       "      <td>toddirwin nfl forgetabout they got until febru...</td>\n",
       "    </tr>\n",
       "    <tr>\n",
       "      <th>18011</th>\n",
       "      <td>18415</td>\n",
       "      <td>1</td>\n",
       "      <td>rt woridstarhlphop when a bad bitch asks you t...</td>\n",
       "    </tr>\n",
       "    <tr>\n",
       "      <th>13743</th>\n",
       "      <td>14079</td>\n",
       "      <td>0</td>\n",
       "      <td>overripe eggplants are not good eats uncletweet</td>\n",
       "    </tr>\n",
       "    <tr>\n",
       "      <th>4191</th>\n",
       "      <td>4314</td>\n",
       "      <td>1</td>\n",
       "      <td>mr_lewis_ brookebrooklyn_ ohh yaa he wants bro...</td>\n",
       "    </tr>\n",
       "  </tbody>\n",
       "</table>\n",
       "</div>"
      ],
      "text/plain": [
       "          id  label                                              tweet\n",
       "20495  20941      0  real talk not being byes or nothin the whole n...\n",
       "15840  16209      1  rt joebudden women all over america are overst...\n",
       "16704  17089      1  rt nothinglikeit these hoes getting dressed up...\n",
       "2251    2296      1   touchdown with  on the clock  michigan some hoes\n",
       "18559  18968      0  rt amyalkon school admins take hungry kids lun...\n",
       "9475    9735      0  going up to the view point and seeing star chi...\n",
       "5012    5161      0  toddirwin nfl forgetabout they got until febru...\n",
       "18011  18415      1  rt woridstarhlphop when a bad bitch asks you t...\n",
       "13743  14079      0    overripe eggplants are not good eats uncletweet\n",
       "4191    4314      1  mr_lewis_ brookebrooklyn_ ohh yaa he wants bro..."
      ]
     },
     "execution_count": 24,
     "metadata": {},
     "output_type": "execute_result"
    }
   ],
   "source": [
    "semi_tweets_df.head(10)"
   ]
  },
  {
   "cell_type": "code",
   "execution_count": 29,
   "metadata": {},
   "outputs": [],
   "source": [
    "import torch\n",
    "from torch.utils.data import DataLoader, Dataset\n",
    "\n",
    "\n",
    "class TweetDataset(Dataset):\n",
    "    def __init__(self, texts, labels=None):\n",
    "        self.texts = texts\n",
    "        self.labels = labels\n",
    "\n",
    "    def __len__(self):\n",
    "        return len(self.texts)\n",
    "\n",
    "    def __getitem__(self, idx):\n",
    "        text = str(self.texts[idx])\n",
    "        if self.labels is not None:\n",
    "            label = self.labels[idx]\n",
    "            return {\n",
    "                'text': text,\n",
    "                'label': label\n",
    "            }\n",
    "        else:\n",
    "            return {\n",
    "                'text': text\n",
    "            }\n",
    "        \n",
    "# trainer_dataset = TweetDataset(trainer_tweets, trainer_labels)\n",
    "learner_dataset = TweetDataset(X_train, y_train)\n",
    "\n",
    "\n",
    "# trainer_loader = DataLoader(trainer_dataset, batch_size=12, shuffle=True)\n",
    "learner_loader = DataLoader(learner_dataset, batch_size=6, shuffle=False)\n"
   ]
  },
  {
   "cell_type": "code",
   "execution_count": 30,
   "metadata": {},
   "outputs": [
    {
     "name": "stderr",
     "output_type": "stream",
     "text": [
      "Some weights of ConvBertForSequenceClassification were not initialized from the model checkpoint at YituTech/conv-bert-base and are newly initialized: ['classifier.dense.bias', 'classifier.dense.weight', 'classifier.out_proj.bias', 'classifier.out_proj.weight']\n",
      "You should probably TRAIN this model on a down-stream task to be able to use it for predictions and inference.\n"
     ]
    },
    {
     "data": {
      "text/plain": [
       "ConvBertForSequenceClassification(\n",
       "  (convbert): ConvBertModel(\n",
       "    (embeddings): ConvBertEmbeddings(\n",
       "      (word_embeddings): Embedding(30522, 768, padding_idx=0)\n",
       "      (position_embeddings): Embedding(512, 768)\n",
       "      (token_type_embeddings): Embedding(2, 768)\n",
       "      (LayerNorm): LayerNorm((768,), eps=1e-12, elementwise_affine=True)\n",
       "      (dropout): Dropout(p=0.1, inplace=False)\n",
       "    )\n",
       "    (encoder): ConvBertEncoder(\n",
       "      (layer): ModuleList(\n",
       "        (0-11): 12 x ConvBertLayer(\n",
       "          (attention): ConvBertAttention(\n",
       "            (self): ConvBertSelfAttention(\n",
       "              (query): Linear(in_features=768, out_features=384, bias=True)\n",
       "              (key): Linear(in_features=768, out_features=384, bias=True)\n",
       "              (value): Linear(in_features=768, out_features=384, bias=True)\n",
       "              (key_conv_attn_layer): SeparableConv1D(\n",
       "                (depthwise): Conv1d(768, 768, kernel_size=(9,), stride=(1,), padding=(4,), groups=768, bias=False)\n",
       "                (pointwise): Conv1d(768, 384, kernel_size=(1,), stride=(1,), bias=False)\n",
       "              )\n",
       "              (conv_kernel_layer): Linear(in_features=384, out_features=54, bias=True)\n",
       "              (conv_out_layer): Linear(in_features=768, out_features=384, bias=True)\n",
       "              (unfold): Unfold(kernel_size=[9, 1], dilation=1, padding=[4, 0], stride=1)\n",
       "              (dropout): Dropout(p=0.1, inplace=False)\n",
       "            )\n",
       "            (output): ConvBertSelfOutput(\n",
       "              (dense): Linear(in_features=768, out_features=768, bias=True)\n",
       "              (LayerNorm): LayerNorm((768,), eps=1e-12, elementwise_affine=True)\n",
       "              (dropout): Dropout(p=0.1, inplace=False)\n",
       "            )\n",
       "          )\n",
       "          (intermediate): ConvBertIntermediate(\n",
       "            (dense): Linear(in_features=768, out_features=3072, bias=True)\n",
       "            (intermediate_act_fn): GELUActivation()\n",
       "          )\n",
       "          (output): ConvBertOutput(\n",
       "            (dense): Linear(in_features=3072, out_features=768, bias=True)\n",
       "            (LayerNorm): LayerNorm((768,), eps=1e-12, elementwise_affine=True)\n",
       "            (dropout): Dropout(p=0.1, inplace=False)\n",
       "          )\n",
       "        )\n",
       "      )\n",
       "    )\n",
       "  )\n",
       "  (classifier): ConvBertClassificationHead(\n",
       "    (dense): Linear(in_features=768, out_features=768, bias=True)\n",
       "    (dropout): Dropout(p=0.1, inplace=False)\n",
       "    (out_proj): Linear(in_features=768, out_features=2, bias=True)\n",
       "  )\n",
       ")"
      ]
     },
     "execution_count": 30,
     "metadata": {},
     "output_type": "execute_result"
    }
   ],
   "source": [
    "import torch\n",
    "import torch.nn as nn\n",
    "from torch import optim\n",
    "from tqdm import tqdm\n",
    "from transformers import AutoTokenizer, ConvBertModel, ConvBertForSequenceClassification\n",
    "\n",
    "# Number of epochs\n",
    "num_epochs = 1\n",
    "\n",
    "tokenizer = AutoTokenizer.from_pretrained(\"YituTech/conv-bert-base\")\n",
    "\n",
    "\n",
    "# Initialize the model\n",
    "model = ConvBertForSequenceClassification.from_pretrained(\"YituTech/conv-bert-base\", num_labels=2)\n",
    "\n",
    "\n",
    "# Set up the optimizer and loss function\n",
    "optimizer = optim.AdamW(model.parameters(), lr=1e-5)\n",
    "criterion = torch.nn.CrossEntropyLoss()\n",
    "\n",
    "# Check if CUDA is available and set the device accordingly\n",
    "device = torch.device('cuda' if torch.cuda.is_available() else 'cpu')\n",
    "model.to(device)\n",
    "\n"
   ]
  },
  {
   "cell_type": "code",
   "execution_count": 31,
   "metadata": {},
   "outputs": [
    {
     "name": "stderr",
     "output_type": "stream",
     "text": [
      "  0%|                                                                                         | 0/1110 [00:00<?, ?it/s]Asking to truncate to max_length but no maximum length is provided and the model has no predefined maximum length. Default to no truncation.\n",
      "C:\\Users\\mdoga\\AppData\\Local\\Temp\\ipykernel_18768\\692897503.py:13: UserWarning: To copy construct from a tensor, it is recommended to use sourceTensor.clone().detach() or sourceTensor.clone().detach().requires_grad_(True), rather than torch.tensor(sourceTensor).\n",
      "  labels = torch.tensor(batch['label']).clone().detach().to(device)\n",
      "100%|██████████████████████████████████████████████████████████████████████████████| 1110/1110 [01:07<00:00, 16.54it/s]\n"
     ]
    }
   ],
   "source": [
    "model.train()\n",
    "num_epochs = 1\n",
    "for epoch in range(num_epochs):\n",
    "    # trainer_dataloader_iterator = iter(trainer_loader)\n",
    "    semi_labeled_dataloader_iterator = iter(learner_loader)\n",
    "    num_batches = len(learner_loader)\n",
    "    # num_batches = 5000\n",
    "    for _ in tqdm(range(num_batches)):\n",
    "        # Train on labeled data\n",
    "        batch = next(semi_labeled_dataloader_iterator, None)\n",
    "        if batch is not None:\n",
    "            inputs = tokenizer(batch['text'], padding=True, truncation=True, return_tensors=\"pt\").to(device)\n",
    "            labels = torch.tensor(batch['label']).clone().detach().to(device)\n",
    "            outputs = model(**inputs)\n",
    "            logits = outputs.logits\n",
    "    \n",
    "            loss = criterion(logits, labels)\n",
    "            loss.backward()\n",
    "            optimizer.step()\n",
    "            optimizer.zero_grad()"
   ]
  },
  {
   "cell_type": "code",
   "execution_count": 46,
   "metadata": {},
   "outputs": [],
   "source": [
    "class TweetDatasetTest(torch.utils.data.Dataset):\n",
    "    def __init__(self, encodings, labels):\n",
    "        self.encodings = encodings\n",
    "        self.labels = labels\n",
    "\n",
    "    def __getitem__(self, idx):\n",
    "        item = {key: torch.tensor(val[idx]) for key, val in self.encodings.items()}\n",
    "        item['labels'] = torch.tensor(self.labels[idx])\n",
    "        return item\n",
    "\n",
    "    def __len__(self):\n",
    "        return len(self.labels)\n",
    "\n",
    "test_encodings = tokenizer(X_test.tolist(), truncation=True, padding=True)\n",
    "test_dataset = TweetDatasetTest(test_encodings, y_test)\n",
    "test_loader = torch.utils.data.DataLoader(test_dataset, batch_size=12, shuffle=False)\n"
   ]
  },
  {
   "cell_type": "code",
   "execution_count": 47,
   "metadata": {},
   "outputs": [
    {
     "name": "stdout",
     "output_type": "stream",
     "text": [
      "start\n",
      "end\n",
      "Validation Accuracy: 0.9562087582483503\n"
     ]
    }
   ],
   "source": [
    "\n",
    "model.eval()\n",
    "correct = 0\n",
    "total = 1\n",
    "num_epochs = 1\n",
    "prediction_list = np.array([])\n",
    "\n",
    "\n",
    "with torch.no_grad():\n",
    "    test_start  = time.time()\n",
    "    print('start')\n",
    "    for batch in test_loader:\n",
    "        #print(batch)\n",
    "        input_ids = batch['input_ids'].to(device)\n",
    "        attention_mask = batch['attention_mask'].to(device)\n",
    "        labels = batch['labels'].to(device)\n",
    "        outputs = model(input_ids, attention_mask=attention_mask)\n",
    "        predictions = torch.argmax(outputs.logits, dim=1)\n",
    "        correct += (predictions == labels).sum().item()\n",
    "        total += labels.size(0)\n",
    "        prediction_list = np.append(prediction_list, predictions.detach().cpu().numpy())\n",
    "    print('end')\n",
    "    \n",
    "    test_end = time.time()\n",
    "\n",
    "\n",
    "accuracy = correct / total\n",
    "print(f'Validation Accuracy: {accuracy}')"
   ]
  },
  {
   "cell_type": "code",
   "execution_count": 48,
   "metadata": {},
   "outputs": [
    {
     "name": "stdout",
     "output_type": "stream",
     "text": [
      "              precision    recall  f1-score   support\n",
      "\n",
      "           0       0.95      0.97      0.96       851\n",
      "           1       0.97      0.94      0.96       815\n",
      "\n",
      "    accuracy                           0.96      1666\n",
      "   macro avg       0.96      0.96      0.96      1666\n",
      "weighted avg       0.96      0.96      0.96      1666\n",
      "\n"
     ]
    }
   ],
   "source": [
    "from sklearn.metrics import classification_report\n",
    "\n",
    "# Assuming you have the true labels in `val_labels` and the predicted labels in `prediction_list`\n",
    "report = classification_report(y_test, prediction_list)\n",
    "\n",
    "print(report)"
   ]
  },
  {
   "cell_type": "code",
   "execution_count": 9,
   "metadata": {},
   "outputs": [
    {
     "name": "stdout",
     "output_type": "stream",
     "text": [
      "True Positives (TP): 782\n",
      "True Negatives (TN): 826\n",
      "False Positives (FP): 13\n",
      "False Negatives (FN): 45\n"
     ]
    }
   ],
   "source": [
    "from sklearn.metrics import confusion_matrix\n",
    "\n",
    "# Assuming you have the true labels in `val_labels` and the predicted labels in `prediction_list`\n",
    "cm = confusion_matrix(y_test, prediction_list)\n",
    "\n",
    "# Extract TP, TN, FP, FN from the confusion matrix\n",
    "TP = cm[1, 1]\n",
    "TN = cm[0, 0]\n",
    "FP = cm[0, 1]\n",
    "FN = cm[1, 0]\n",
    "\n",
    "print(f\"True Positives (TP): {TP}\")\n",
    "print(f\"True Negatives (TN): {TN}\")\n",
    "print(f\"False Positives (FP): {FP}\")\n",
    "print(f\"False Negatives (FN): {FN}\")\n"
   ]
  },
  {
   "cell_type": "code",
   "execution_count": 21,
   "metadata": {},
   "outputs": [],
   "source": [
    "model.save_pretrained('models/HSO_BERT_2')"
   ]
  }
 ],
 "metadata": {
  "kernelspec": {
   "display_name": "Python 3 (ipykernel)",
   "language": "python",
   "name": "python3"
  },
  "language_info": {
   "codemirror_mode": {
    "name": "ipython",
    "version": 3
   },
   "file_extension": ".py",
   "mimetype": "text/x-python",
   "name": "python",
   "nbconvert_exporter": "python",
   "pygments_lexer": "ipython3",
   "version": "3.12.3"
  }
 },
 "nbformat": 4,
 "nbformat_minor": 4
}
