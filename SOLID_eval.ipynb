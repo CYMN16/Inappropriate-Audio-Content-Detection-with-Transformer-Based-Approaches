{
 "cells": [
  {
   "cell_type": "code",
   "execution_count": 1,
   "metadata": {},
   "outputs": [
    {
     "name": "stderr",
     "output_type": "stream",
     "text": [
      "/home/cymn/miniconda3/envs/nvidia-newest/lib/python3.12/site-packages/tqdm/auto.py:21: TqdmWarning: IProgress not found. Please update jupyter and ipywidgets. See https://ipywidgets.readthedocs.io/en/stable/user_install.html\n",
      "  from .autonotebook import tqdm as notebook_tqdm\n"
     ]
    }
   ],
   "source": [
    "import pandas as pd\n",
    "from sklearn.model_selection import train_test_split\n",
    "from transformers import BertTokenizer, ConvBertForSequenceClassification, ConvBertTokenizer\n",
    "from transformers import AutoTokenizer\n",
    "\n",
    "# Load dataset\n",
    "# df = pd.read_csv('datasets/cleaned_OLID_test.tsv', sep=\"\\t\")\n",
    "# df = pd.read_csv('datasets/cleaned_OLID.tsv', sep=\"\\t\")\n",
    "df = pd.read_csv('datasets/cleaned_SOLIDtest6K_trainer.tsv', sep='\\t')\n",
    "# df = pd.read_csv('datasets/cleaned_tr_offenseval_test.tsv', sep='\\t')\n",
    "# df = pd.read_csv('datasets/cleaned_hatespeech_offensive.tsv', sep='\\t')\n",
    "\n",
    "# Assuming your columns are named 'tweet' and 'class', change accordingly\n",
    "tweets = df['tweet'].values\n",
    "labels_df = df['label'].values\n",
    "\n",
    "\n",
    "# Split the dataset into training and validation sets\n",
    "# _, tweets, _, labels_df = train_test_split(tweets, labels_df, test_size=0.2, random_state=42)\n",
    "\n",
    "# val_texts = tweets\n",
    "# Initialize BERT tokenizer\n",
    "\n",
    "# tokenizer = BertTokenizer.from_pretrained('bert-base-uncased')\n",
    "# tokenizer = ConvBertTokenizer.from_pretrained('YituTech/conv-bert-base')\n",
    "tokenizer = AutoTokenizer.from_pretrained(\"distilbert/distilbert-base-uncased\") ## bu ve alttaki değişiyor, birde buna göre importlar değişir\n",
    "\n",
    "# tokenizer = AutoTokenizer.from_pretrained(\"cardiffnlp/twitter-roberta-base-emotion\")\n",
    "\n",
    "# Tokenize and encode the training and validation texts\n",
    "# train_encodings = tokenizer(train_texts.tolist(), truncation=True, padding=True)\n",
    "encodings = tokenizer(tweets.tolist(), truncation=True, padding=True)\n"
   ]
  },
  {
   "cell_type": "code",
   "execution_count": 2,
   "metadata": {},
   "outputs": [],
   "source": [
    "import torch\n",
    "\n",
    "class TweetDataset(torch.utils.data.Dataset):\n",
    "    def __init__(self, encodings, labels):\n",
    "        self.encodings = encodings\n",
    "        self.labels = labels\n",
    "\n",
    "    def __getitem__(self, idx):\n",
    "        item = {key: torch.tensor(val[idx]) for key, val in self.encodings.items()}\n",
    "        item['labels'] = torch.tensor(self.labels[idx])\n",
    "        return item\n",
    "\n",
    "    def __len__(self):\n",
    "        return len(self.labels)\n",
    "\n",
    "# train_dataset = TweetDataset(train_encodings, train_labels)\n",
    "val_dataset = TweetDataset(encodings, labels_df)\n",
    "\n",
    "# train_loader = torch.utils.data.DataLoader(train_dataset, batch_size=12, shuffle=True)\n",
    "val_loader = torch.utils.data.DataLoader(val_dataset, batch_size=12, shuffle=False)\n"
   ]
  },
  {
   "cell_type": "code",
   "execution_count": 3,
   "metadata": {},
   "outputs": [
    {
     "data": {
      "text/plain": [
       "DistilBertForSequenceClassification(\n",
       "  (distilbert): DistilBertModel(\n",
       "    (embeddings): Embeddings(\n",
       "      (word_embeddings): Embedding(30522, 768, padding_idx=0)\n",
       "      (position_embeddings): Embedding(512, 768)\n",
       "      (LayerNorm): LayerNorm((768,), eps=1e-12, elementwise_affine=True)\n",
       "      (dropout): Dropout(p=0.1, inplace=False)\n",
       "    )\n",
       "    (transformer): Transformer(\n",
       "      (layer): ModuleList(\n",
       "        (0-5): 6 x TransformerBlock(\n",
       "          (attention): MultiHeadSelfAttention(\n",
       "            (dropout): Dropout(p=0.1, inplace=False)\n",
       "            (q_lin): Linear(in_features=768, out_features=768, bias=True)\n",
       "            (k_lin): Linear(in_features=768, out_features=768, bias=True)\n",
       "            (v_lin): Linear(in_features=768, out_features=768, bias=True)\n",
       "            (out_lin): Linear(in_features=768, out_features=768, bias=True)\n",
       "          )\n",
       "          (sa_layer_norm): LayerNorm((768,), eps=1e-12, elementwise_affine=True)\n",
       "          (ffn): FFN(\n",
       "            (dropout): Dropout(p=0.1, inplace=False)\n",
       "            (lin1): Linear(in_features=768, out_features=3072, bias=True)\n",
       "            (lin2): Linear(in_features=3072, out_features=768, bias=True)\n",
       "            (activation): GELUActivation()\n",
       "          )\n",
       "          (output_layer_norm): LayerNorm((768,), eps=1e-12, elementwise_affine=True)\n",
       "        )\n",
       "      )\n",
       "    )\n",
       "  )\n",
       "  (pre_classifier): Linear(in_features=768, out_features=768, bias=True)\n",
       "  (classifier): Linear(in_features=768, out_features=2, bias=True)\n",
       "  (dropout): Dropout(p=0.2, inplace=False)\n",
       ")"
      ]
     },
     "execution_count": 3,
     "metadata": {},
     "output_type": "execute_result"
    }
   ],
   "source": [
    "import torch\n",
    "from torch import optim\n",
    "from transformers import BertForSequenceClassification, DistilBertForSequenceClassification\n",
    "# from transformers import AutoTokenizer, RobertaForSequenceClassification\n",
    "import time\n",
    "# Initialize BERT model for sequence classification\n",
    "# model = RobertaForSequenceClassification.from_pretrained('models/SOLID_semi_RoBERTa_2_cleaned')\n",
    "# model = BertForSequenceClassification.from_pretrained('models/troffenseval_SOLIDBERT')\n",
    "# model = ConvBertForSequenceClassification.from_pretrained('models/troffenseval_SOLIDconvBERT', num_labels=2)\n",
    "model = DistilBertForSequenceClassification.from_pretrained(\"models/OLIDdistilBERT_1\")\n",
    "\n",
    "# Define optimizer and learning rate\n",
    "optimizer = optim.AdamW(model.parameters(), lr=1e-5)\n",
    "\n",
    "# Training loop\n",
    "device = torch.device('cuda') if torch.cuda.is_available() else torch.device('cpu')\n",
    "model.to(device)\n"
   ]
  },
  {
   "cell_type": "code",
   "execution_count": 4,
   "metadata": {},
   "outputs": [
    {
     "name": "stdout",
     "output_type": "stream",
     "text": [
      "start\n",
      "end\n",
      "Validation Accuracy: 0.5014183213749375\n"
     ]
    }
   ],
   "source": [
    "import numpy as np\n",
    "import time\n",
    "# Evaluation\n",
    "model.eval()\n",
    "# Perform evaluation on validation set and calculate metrics as needed\n",
    "# Example: calculate accuracy\n",
    "correct = 0\n",
    "total = 0\n",
    "i = 0\n",
    "prediction_list = np.array([])\n",
    "\n",
    "with torch.no_grad():\n",
    "    test_start  = time.time()\n",
    "    print('start')\n",
    "    for batch in val_loader:\n",
    "        input_ids = batch['input_ids'].to(device)\n",
    "        attention_mask = batch['attention_mask'].to(device)\n",
    "        labels = batch['labels'].to(device)\n",
    "        outputs = model(input_ids, attention_mask=attention_mask)\n",
    "        predictions = torch.argmax(outputs.logits, dim=1)\n",
    "        correct += (predictions == labels).sum().item()\n",
    "        total += labels.size(0)\n",
    "        prediction_list = np.append(prediction_list, predictions.detach().cpu().numpy())\n",
    "    print('end')\n",
    "    \n",
    "    test_end = time.time()\n",
    "\n",
    "accuracy = correct / total\n",
    "print(f'Validation Accuracy: {accuracy}')\n"
   ]
  },
  {
   "cell_type": "code",
   "execution_count": 5,
   "metadata": {},
   "outputs": [],
   "source": [
    "# wrong_indices = [i for i in range(len(labels_df)) if labels_df[i] != prediction_list[i]]\n",
    "\n",
    "# output_results_df = pd.DataFrame(columns=['index', 'tweet', 'prediction', 'label'])\n",
    "\n",
    "# for index in wrong_indices:\n",
    "#     # output_results_df\n",
    "    \n",
    "#     output_results_df.loc[len(output_results_df)] = [index, tweets[index], int(prediction_list[index]), labels_df[index]]\n",
    "#     # pd.concat([output_results_df, {'tweet': tweets[index], 'prediction': prediction_list[index], 'label': labels_df[index]}])\n",
    "#     # print(f'tweet: {tweets[index]}, prediction {prediction_list[index]}, label {labels_df[index]:f02}')\n",
    "\n",
    "# output_results_df.to_csv('./outputs/wr-troffenseval_SOLID_BERT.tsv', sep='\\t')"
   ]
  },
  {
   "cell_type": "code",
   "execution_count": 6,
   "metadata": {},
   "outputs": [
    {
     "name": "stdout",
     "output_type": "stream",
     "text": [
      "              precision    recall  f1-score   support\n",
      "\n",
      "           0       1.00      0.00      0.00      2991\n",
      "           1       0.50      1.00      0.67      3002\n",
      "\n",
      "    accuracy                           0.50      5993\n",
      "   macro avg       0.75      0.50      0.33      5993\n",
      "weighted avg       0.75      0.50      0.34      5993\n",
      "\n"
     ]
    }
   ],
   "source": [
    "from sklearn.metrics import classification_report\n",
    "\n",
    "# Assuming you have the true labels in `val_labels` and the predicted labels in `prediction_list`\n",
    "report = classification_report(labels_df, prediction_list)\n",
    "\n",
    "print(report)"
   ]
  },
  {
   "cell_type": "code",
   "execution_count": 7,
   "metadata": {},
   "outputs": [
    {
     "name": "stdout",
     "output_type": "stream",
     "text": [
      "True Positives (TP): 3002\n",
      "True Negatives (TN): 3\n",
      "False Positives (FP): 2988\n",
      "False Negatives (FN): 0\n"
     ]
    }
   ],
   "source": [
    "from sklearn.metrics import confusion_matrix\n",
    "\n",
    "# Assuming you have the true labels in `val_labels` and the predicted labels in `prediction_list`\n",
    "cm = confusion_matrix(labels_df, prediction_list)\n",
    "\n",
    "# Extract TP, TN, FP, FN from the confusion matrix\n",
    "TP = cm[1, 1]\n",
    "TN = cm[0, 0]\n",
    "FP = cm[0, 1]\n",
    "FN = cm[1, 0]\n",
    "\n",
    "print(f\"True Positives (TP): {TP}\")\n",
    "print(f\"True Negatives (TN): {TN}\")\n",
    "print(f\"False Positives (FP): {FP}\")\n",
    "print(f\"False Negatives (FN): {FN}\")\n"
   ]
  },
  {
   "cell_type": "code",
   "execution_count": 8,
   "metadata": {},
   "outputs": [
    {
     "name": "stdout",
     "output_type": "stream",
     "text": [
      "test time: 7.286987066268921\n"
     ]
    }
   ],
   "source": [
    "test_time = test_end - test_start\n",
    "\n",
    "print(f'test time: {test_time}')"
   ]
  },
  {
   "cell_type": "code",
   "execution_count": 9,
   "metadata": {},
   "outputs": [],
   "source": [
    "# import pandas as pd\n",
    "\n",
    "# # Create a DataFrame with the validation texts and labels\n",
    "# validation_df = pd.DataFrame({'text': val_texts, 'label': val_labels})\n",
    "\n",
    "# # Add the prediction list as a new column to the DataFrame\n",
    "# validation_df['prediction'] = prediction_list\n",
    "\n",
    "# # Save the DataFrame as a CSV file\n",
    "# validation_df.to_csv('OLID_validation_with_predictions.csv', index=False)\n"
   ]
  }
 ],
 "metadata": {
  "kernelspec": {
   "display_name": "Python 3",
   "language": "python",
   "name": "python3"
  },
  "language_info": {
   "codemirror_mode": {
    "name": "ipython",
    "version": 3
   },
   "file_extension": ".py",
   "mimetype": "text/x-python",
   "name": "python",
   "nbconvert_exporter": "python",
   "pygments_lexer": "ipython3",
   "version": "3.12.2"
  }
 },
 "nbformat": 4,
 "nbformat_minor": 2
}
