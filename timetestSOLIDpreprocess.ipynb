{
 "cells": [
  {
   "cell_type": "code",
   "execution_count": 1,
   "metadata": {},
   "outputs": [],
   "source": [
    "import pandas as pd\n",
    "import time\n",
    "# tr_offenseval_tweets_df = pd.read_csv('offenseval2020-turkish/offenseval-tr-testset-v1/offenseval-tr-testset-v1.tsv', sep=\"\\t\")\n",
    "# tr_offenseval_labels_df = pd.read_csv('offenseval2020-turkish/offenseval-tr-testset-v1/offenseval-tr-labela-v1.tsv', sep=\",\")\n",
    "# HSO = pd.read_csv('hatespeech_offensive.csv', sep=',')\n",
    "\n",
    "# OLID = pd.read_csv('OLIDv1.0/olid-training-v1.0.tsv', sep=\"\\t\")\n",
    "\n",
    "# Trainer (has labels)\n",
    "# trainer_tweets_df = pd.read_csv('extended_test_SOLID/test_a_tweets_all.tsv', sep=\"\\t\")\n",
    "# trainer_labels_df = pd.read_csv('extended_test_SOLID/test_a_labels_all.csv', sep=\",\")\n",
    "\n",
    "# Unsupervised learner (no labels)\n",
    "import_start = time.time()\n",
    "learner_tweets_df = pd.read_csv('SOLID_tweets_task_a_distant.tsv', sep=\"\\t\")\n",
    "import_end = time.time()"
   ]
  },
  {
   "cell_type": "code",
   "execution_count": 2,
   "metadata": {},
   "outputs": [],
   "source": [
    "# HSO.head()"
   ]
  },
  {
   "cell_type": "code",
   "execution_count": 3,
   "metadata": {},
   "outputs": [
    {
     "name": "stderr",
     "output_type": "stream",
     "text": [
      "<>:17: SyntaxWarning: invalid escape sequence '\\d'\n",
      "<>:17: SyntaxWarning: invalid escape sequence '\\d'\n",
      "/tmp/ipykernel_9794/2393108744.py:17: SyntaxWarning: invalid escape sequence '\\d'\n",
      "  df.loc[:, col_name] = df.loc[:, col_name].str.replace('\\d+','', regex=True) #Remove numbers\n"
     ]
    }
   ],
   "source": [
    "\n",
    "def remap_labels(df, col_name):\n",
    "    df[col_name] = df[col_name].map({'OFF': 1, 'NOT': 0})\n",
    "    return df\n",
    "def remap_HSO_labels(df):\n",
    "    df['class'] = df['class'].map({2: 0, 1: 1, 0: 1}) \n",
    "    return df\n",
    "\n",
    "def remap_tweets(df, col_name):\n",
    "    df.loc[:, col_name] = df.loc[:, col_name].str.replace('@USER', '') #Remove mentions (@USER)\n",
    "    df.loc[:, col_name] = df.loc[:, col_name].str.replace('URL', '') #Remove URLs\n",
    "    pat = r'(http|ftp|https):\\/\\/([\\w_-]+(?:(?:\\.[\\w_-]+)+))([\\w.,@?^=%&:\\/~+#-]*[\\w@?^=%&\\/~+#-])' # remove URLS\n",
    "    df.loc[:, col_name] = df.loc[:, col_name].str.replace(pat, ' ', regex=True)\n",
    "    df.loc[:, col_name] = df.loc[:, col_name].str.replace('&amp', 'and') #Replace ampersand (&) with and\n",
    "    df.loc[:, col_name] = df.loc[:, col_name].str.replace('&lt','') #Remove &lt\n",
    "    df.loc[:, col_name] = df.loc[:, col_name].str.replace('&gt','') #Remove &gt\n",
    "    df.loc[:, col_name] = df.loc[:, col_name].str.replace('\\n',' ') #Remove \\n\n",
    "    df.loc[:, col_name] = df.loc[:, col_name].str.replace('\\d+','', regex=True) #Remove numbers\n",
    "    pat = r'[^\\w\\s]' # remove the emojis and other special characters\n",
    "    df.loc[:, col_name] = df.loc[:, col_name].str.replace(pat, '', regex=True)\n",
    "    #remove white space before and after the tweet\n",
    "    df.loc[:, col_name] = df.loc[:, col_name].str.strip()\n",
    "    df.loc[:, col_name] = df.loc[:, col_name].str.lower() #Lowercase\n",
    "    \n",
    "    # not needed outside of english\n",
    "    contractions_dict = {\n",
    "        r\"\\bive\\b\": \"i have\",\n",
    "        r\"\\byoure\\b\": \"you are\",\n",
    "        r\"\\bitd\\b\": \"it would\",\n",
    "        r\"\\bcant\\b\": \"cannot\",\n",
    "        r\"\\bdont\\b\": \"do not\",\n",
    "        r\"\\bwont\\b\": \"will not\",\n",
    "        r\"\\btho\\b\": \"though\",\n",
    "        r\"\\bim\\b\": \"i am\",\n",
    "        r\"\\bhes\\b\": \"he is\",\n",
    "        r\"\\bshes\\b\": \"she is\",\n",
    "        r\"\\bits\\b\": \"it is\",\n",
    "        r\"\\bwere\\b\": \"we are\",\n",
    "        r\"\\btheyre\\b\": \"they are\",\n",
    "        r\"\\bshouldnt\\b\": \"should not\",\n",
    "        r\"\\bwouldnt\\b\": \"would not\",\n",
    "        r\"\\bcouldnt\\b\": \"could not\",\n",
    "        r\"\\bisnt\\b\": \"is not\",\n",
    "        r\"\\barent\\b\": \"are not\",\n",
    "        r\"\\bhavent\\b\": \"have not\",\n",
    "        r\"\\bhasnt\\b\": \"has not\",\n",
    "        r\"\\bhadnt\\b\": \"had not\",\n",
    "        r\"\\bwasnt\\b\": \"was not\",\n",
    "        r\"\\bwerent\\b\": \"were not\"\n",
    "    }\n",
    "    \n",
    "    df[col_name] = df[col_name].replace(contractions_dict, regex=True) # Replace some popular contractions\n",
    "    \n",
    "    \n",
    "    return df"
   ]
  },
  {
   "cell_type": "code",
   "execution_count": 4,
   "metadata": {},
   "outputs": [],
   "source": [
    "# trainer_labels_df = remap_labels(trainer_labels_df, 'label')\n",
    "# trainer_tweets_df = remap_tweets(trainer_tweets_df, 'tweet')\n",
    "preprocess_start = time.time()\n",
    "learner_tweets_df = remap_tweets(learner_tweets_df, 'text')\n",
    "preprocess_end = time.time()\n",
    "\n",
    "# OLID = remap_labels(OLID, 'subtask_a')\n",
    "# OLID = remap_tweets(OLID, 'tweet')\n",
    "\n",
    "# tr_offenseval_labels_df = remap_labels(tr_offenseval_labels_df, 'label')\n",
    "# tr_offenseval_tweets_df = remap_tweets(tr_offenseval_tweets_df, 'tweet')\n",
    "\n",
    "# HSO_df = remap_HSO_labels(HSO)\n",
    "# HSO_df = remap_tweets(HSO, 'tweet')\n"
   ]
  },
  {
   "cell_type": "code",
   "execution_count": 5,
   "metadata": {},
   "outputs": [
    {
     "name": "stdout",
     "output_type": "stream",
     "text": [
      "Import SOLID time: 17.22642970085144\n",
      "Preprocess SOLID time: 316.6861696243286\n"
     ]
    }
   ],
   "source": [
    "import_time = import_end - import_start\n",
    "preprocess_time = preprocess_end - preprocess_start\n",
    "\n",
    "print(f'Import SOLID time: {import_time}')\n",
    "print(f'Preprocess SOLID time: {preprocess_time}')"
   ]
  }
 ],
 "metadata": {
  "kernelspec": {
   "display_name": "nvidia",
   "language": "python",
   "name": "python3"
  },
  "language_info": {
   "codemirror_mode": {
    "name": "ipython",
    "version": 3
   },
   "file_extension": ".py",
   "mimetype": "text/x-python",
   "name": "python",
   "nbconvert_exporter": "python",
   "pygments_lexer": "ipython3",
   "version": "3.1.undefined"
  }
 },
 "nbformat": 4,
 "nbformat_minor": 2
}
