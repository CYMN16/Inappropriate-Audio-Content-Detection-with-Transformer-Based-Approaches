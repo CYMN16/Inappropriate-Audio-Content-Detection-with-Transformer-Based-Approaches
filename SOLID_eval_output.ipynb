{
 "cells": [
  {
   "cell_type": "code",
   "execution_count": 6,
   "metadata": {},
   "outputs": [
    {
     "name": "stderr",
     "output_type": "stream",
     "text": [
      "Asking to truncate to max_length but no maximum length is provided and the model has no predefined maximum length. Default to no truncation.\n"
     ]
    }
   ],
   "source": [
    "import pandas as pd\n",
    "from sklearn.model_selection import train_test_split\n",
    "from transformers import BertTokenizer, ConvBertForSequenceClassification, ConvBertTokenizer\n",
    "from transformers import AutoTokenizer\n",
    "\n",
    "# Load dataset\n",
    "# df = pd.read_csv('datasets/cleaned_OLID_test.tsv', sep=\"\\t\")\n",
    "# df = pd.read_csv('datasets/cleaned_OLID.tsv', sep=\"\\t\")\n",
    "# df = pd.read_csv('datasets/cleaned_SOLIDtest6K_trainer.tsv', sep='\\t')\n",
    "# df = pd.read_csv('datasets/cleaned_tr_offenseval_test.tsv', sep='\\t')\n",
    "# df = pd.read_csv('datasets/cleaned_hatespeech_offensive.tsv', sep='\\t')\n",
    "# df = pd.read_csv('json_samples/wolf.csv')\n",
    "# df = pd.read_csv('json_samples/PulpFiction.tsv', sep='\\t')\n",
    "# df = pd.read_csv('json_samples/WolfOfWallstreet.tsv', sep='\\t')\n",
    "# Assuming your columns are named 'tweet' and 'class', change accordingly\n",
    "# tweets = df['tweet'].values\n",
    "# labels_df = df['label'].values\n",
    "# tweets = df['text']\n",
    "tweets = ['Jews and monkeys have so much in common', 'Jews would love those dogs']\n",
    "df = tweets\n",
    "# Split the dataset into training and validation sets\n",
    "# _, tweets, _, labels_df = train_test_split(tweets, labels_df, test_size=0.2, random_state=42)\n",
    "\n",
    "# val_texts = tweets\n",
    "# Initialize BERT tokenizer\n",
    "\n",
    "# tokenizer = BertTokenizer.from_pretrained('bert-base-uncased')\n",
    "tokenizer = ConvBertTokenizer.from_pretrained('YituTech/conv-bert-base')\n",
    "# tokenizer = AutoTokenizer.from_pretrained(\"distilbert/distilbert-base-uncased\") ## bu ve alttaki değişiyor, birde buna göre importlar değişir\n",
    "\n",
    "# tokenizer = AutoTokenizer.from_pretrained(\"cardiffnlp/twitter-roberta-base-emotion\")\n",
    "\n",
    "# Tokenize and encode the training and validation texts\n",
    "# train_encodings = tokenizer(train_texts.tolist(), truncation=True, padding=True)\n",
    "# encodings = tokenizer(tweets.tolist(), truncation=True, padding=True)\n",
    "encodings = tokenizer(tweets, truncation=True, padding=True)\n"
   ]
  },
  {
   "cell_type": "code",
   "execution_count": 7,
   "metadata": {},
   "outputs": [],
   "source": [
    "import torch\n",
    "\n",
    "class TweetDataset(torch.utils.data.Dataset):\n",
    "    def __init__(self, encodings):\n",
    "        self.encodings = encodings\n",
    "        # self.labels = labels\n",
    "\n",
    "    def __getitem__(self, idx):\n",
    "        item = {key: torch.tensor(val[idx]) for key, val in self.encodings.items()}\n",
    "        # item['labels'] = torch.tensor(self.labels[idx])\n",
    "        return item\n",
    "\n",
    "    def __len__(self):\n",
    "        return df.__len__()\n",
    "\n",
    "# train_dataset = TweetDataset(train_encodings, train_labels)\n",
    "val_dataset = TweetDataset(encodings)\n",
    "\n",
    "# train_loader = torch.utils.data.DataLoader(train_dataset, batch_size=12, shuffle=True)\n",
    "val_loader = torch.utils.data.DataLoader(val_dataset, batch_size=12, shuffle=False)\n"
   ]
  },
  {
   "cell_type": "code",
   "execution_count": 8,
   "metadata": {},
   "outputs": [
    {
     "data": {
      "text/plain": [
       "ConvBertForSequenceClassification(\n",
       "  (convbert): ConvBertModel(\n",
       "    (embeddings): ConvBertEmbeddings(\n",
       "      (word_embeddings): Embedding(30522, 768, padding_idx=0)\n",
       "      (position_embeddings): Embedding(512, 768)\n",
       "      (token_type_embeddings): Embedding(2, 768)\n",
       "      (LayerNorm): LayerNorm((768,), eps=1e-12, elementwise_affine=True)\n",
       "      (dropout): Dropout(p=0.1, inplace=False)\n",
       "    )\n",
       "    (encoder): ConvBertEncoder(\n",
       "      (layer): ModuleList(\n",
       "        (0-11): 12 x ConvBertLayer(\n",
       "          (attention): ConvBertAttention(\n",
       "            (self): ConvBertSelfAttention(\n",
       "              (query): Linear(in_features=768, out_features=384, bias=True)\n",
       "              (key): Linear(in_features=768, out_features=384, bias=True)\n",
       "              (value): Linear(in_features=768, out_features=384, bias=True)\n",
       "              (key_conv_attn_layer): SeparableConv1D(\n",
       "                (depthwise): Conv1d(768, 768, kernel_size=(9,), stride=(1,), padding=(4,), groups=768, bias=False)\n",
       "                (pointwise): Conv1d(768, 384, kernel_size=(1,), stride=(1,), bias=False)\n",
       "              )\n",
       "              (conv_kernel_layer): Linear(in_features=384, out_features=54, bias=True)\n",
       "              (conv_out_layer): Linear(in_features=768, out_features=384, bias=True)\n",
       "              (unfold): Unfold(kernel_size=[9, 1], dilation=1, padding=[4, 0], stride=1)\n",
       "              (dropout): Dropout(p=0.1, inplace=False)\n",
       "            )\n",
       "            (output): ConvBertSelfOutput(\n",
       "              (dense): Linear(in_features=768, out_features=768, bias=True)\n",
       "              (LayerNorm): LayerNorm((768,), eps=1e-12, elementwise_affine=True)\n",
       "              (dropout): Dropout(p=0.1, inplace=False)\n",
       "            )\n",
       "          )\n",
       "          (intermediate): ConvBertIntermediate(\n",
       "            (dense): Linear(in_features=768, out_features=3072, bias=True)\n",
       "            (intermediate_act_fn): GELUActivation()\n",
       "          )\n",
       "          (output): ConvBertOutput(\n",
       "            (dense): Linear(in_features=3072, out_features=768, bias=True)\n",
       "            (LayerNorm): LayerNorm((768,), eps=1e-12, elementwise_affine=True)\n",
       "            (dropout): Dropout(p=0.1, inplace=False)\n",
       "          )\n",
       "        )\n",
       "      )\n",
       "    )\n",
       "  )\n",
       "  (classifier): ConvBertClassificationHead(\n",
       "    (dense): Linear(in_features=768, out_features=768, bias=True)\n",
       "    (dropout): Dropout(p=0.1, inplace=False)\n",
       "    (out_proj): Linear(in_features=768, out_features=2, bias=True)\n",
       "  )\n",
       ")"
      ]
     },
     "execution_count": 8,
     "metadata": {},
     "output_type": "execute_result"
    }
   ],
   "source": [
    "import torch\n",
    "from torch import optim\n",
    "from transformers import BertForSequenceClassification, DistilBertForSequenceClassification\n",
    "# from transformers import AutoTokenizer, RobertaForSequenceClassification\n",
    "import time\n",
    "# Initialize BERT model for sequence classification\n",
    "# model = RobertaForSequenceClassification.from_pretrained('models/SOLID_semi_RoBERTa_2_cleaned')\n",
    "# model = BertForSequenceClassification.from_pretrained('models/troffenseval_SOLIDBERT')\n",
    "model = ConvBertForSequenceClassification.from_pretrained('models/SOLID_ConvBERT_1', num_labels=2)\n",
    "# model = DistilBertForSequenceClassification.from_pretrained(\"models/OLIDdistilBERT_1\")\n",
    "\n",
    "# Define optimizer and learning rate\n",
    "optimizer = optim.AdamW(model.parameters(), lr=1e-5)\n",
    "\n",
    "# Training loop\n",
    "device = torch.device('cuda') if torch.cuda.is_available() else torch.device('cpu')\n",
    "model.to(device)\n"
   ]
  },
  {
   "cell_type": "code",
   "execution_count": 9,
   "metadata": {},
   "outputs": [
    {
     "name": "stdout",
     "output_type": "stream",
     "text": [
      "start\n",
      "end\n"
     ]
    }
   ],
   "source": [
    "import numpy as np\n",
    "import time\n",
    "# Evaluation\n",
    "model.eval()\n",
    "correct = 0\n",
    "total = 0\n",
    "i = 0\n",
    "prediction_list = np.array([])\n",
    "\n",
    "with torch.no_grad():\n",
    "    test_start  = time.time()\n",
    "    print('start')\n",
    "    for batch in val_loader:\n",
    "        input_ids = batch['input_ids'].to(device)\n",
    "        attention_mask = batch['attention_mask'].to(device)\n",
    "        outputs = model(input_ids, attention_mask=attention_mask)\n",
    "        predictions = torch.argmax(outputs.logits, dim=1)\n",
    "        prediction_list = np.append(prediction_list, predictions.detach().cpu().numpy())\n",
    "    print('end')\n",
    "    \n",
    "    test_end = time.time()\n",
    "\n"
   ]
  },
  {
   "cell_type": "code",
   "execution_count": 12,
   "metadata": {},
   "outputs": [
    {
     "data": {
      "text/plain": [
       "array([0., 0.])"
      ]
     },
     "execution_count": 12,
     "metadata": {},
     "output_type": "execute_result"
    }
   ],
   "source": [
    "prediction_list"
   ]
  },
  {
   "cell_type": "code",
   "execution_count": 10,
   "metadata": {},
   "outputs": [],
   "source": [
    "# import pandas as pd\n",
    "\n",
    "# df_original = pd.read_csv('json_samples/WolfOfWallstreet.tsv', sep='\\t')\n",
    "\n",
    "\n",
    "# df_out = df_original.assign(predictions=prediction_list)\n",
    "\n",
    "\n",
    "# df_out.to_csv('outputs/OUTPUTwolfofwallstreet.tsv',index=False, sep='\\t')"
   ]
  },
  {
   "cell_type": "code",
   "execution_count": 11,
   "metadata": {},
   "outputs": [
    {
     "name": "stdout",
     "output_type": "stream",
     "text": [
      "test time: 1.8804938793182373\n"
     ]
    }
   ],
   "source": [
    "test_time = test_end - test_start\n",
    "\n",
    "print(f'test time: {test_time}')"
   ]
  }
 ],
 "metadata": {
  "kernelspec": {
   "display_name": "Python 3",
   "language": "python",
   "name": "python3"
  },
  "language_info": {
   "codemirror_mode": {
    "name": "ipython",
    "version": 3
   },
   "file_extension": ".py",
   "mimetype": "text/x-python",
   "name": "python",
   "nbconvert_exporter": "python",
   "pygments_lexer": "ipython3",
   "version": "3.12.2"
  }
 },
 "nbformat": 4,
 "nbformat_minor": 2
}
