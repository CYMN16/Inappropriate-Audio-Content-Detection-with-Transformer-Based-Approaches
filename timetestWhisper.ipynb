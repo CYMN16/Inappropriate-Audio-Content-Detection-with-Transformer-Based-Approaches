{
 "cells": [
  {
   "cell_type": "code",
   "execution_count": 1,
   "metadata": {},
   "outputs": [
    {
     "name": "stdout",
     "output_type": "stream",
     "text": [
      "Importing the dtw module. When using in academic works please cite:\n",
      "  T. Giorgino. Computing and Visualizing Dynamic Time Warping Alignments in R: The dtw Package.\n",
      "  J. Stat. Soft., doi:10.18637/jss.v031.i07.\n",
      "\n",
      "Whisper(\n",
      "  (encoder): AudioEncoder(\n",
      "    (conv1): Conv1d(80, 1024, kernel_size=(3,), stride=(1,), padding=(1,))\n",
      "    (conv2): Conv1d(1024, 1024, kernel_size=(3,), stride=(2,), padding=(1,))\n",
      "    (blocks): ModuleList(\n",
      "      (0-23): 24 x ResidualAttentionBlock(\n",
      "        (attn): MultiHeadAttention(\n",
      "          (query): Linear(in_features=1024, out_features=1024, bias=True)\n",
      "          (key): Linear(in_features=1024, out_features=1024, bias=False)\n",
      "          (value): Linear(in_features=1024, out_features=1024, bias=True)\n",
      "          (out): Linear(in_features=1024, out_features=1024, bias=True)\n",
      "        )\n",
      "        (attn_ln): LayerNorm((1024,), eps=1e-05, elementwise_affine=True)\n",
      "        (mlp): Sequential(\n",
      "          (0): Linear(in_features=1024, out_features=4096, bias=True)\n",
      "          (1): GELU(approximate='none')\n",
      "          (2): Linear(in_features=4096, out_features=1024, bias=True)\n",
      "        )\n",
      "        (mlp_ln): LayerNorm((1024,), eps=1e-05, elementwise_affine=True)\n",
      "      )\n",
      "    )\n",
      "    (ln_post): LayerNorm((1024,), eps=1e-05, elementwise_affine=True)\n",
      "  )\n",
      "  (decoder): TextDecoder(\n",
      "    (token_embedding): Embedding(51865, 1024)\n",
      "    (blocks): ModuleList(\n",
      "      (0-23): 24 x ResidualAttentionBlock(\n",
      "        (attn): MultiHeadAttention(\n",
      "          (query): Linear(in_features=1024, out_features=1024, bias=True)\n",
      "          (key): Linear(in_features=1024, out_features=1024, bias=False)\n",
      "          (value): Linear(in_features=1024, out_features=1024, bias=True)\n",
      "          (out): Linear(in_features=1024, out_features=1024, bias=True)\n",
      "        )\n",
      "        (attn_ln): LayerNorm((1024,), eps=1e-05, elementwise_affine=True)\n",
      "        (cross_attn): MultiHeadAttention(\n",
      "          (query): Linear(in_features=1024, out_features=1024, bias=True)\n",
      "          (key): Linear(in_features=1024, out_features=1024, bias=False)\n",
      "          (value): Linear(in_features=1024, out_features=1024, bias=True)\n",
      "          (out): Linear(in_features=1024, out_features=1024, bias=True)\n",
      "        )\n",
      "        (cross_attn_ln): LayerNorm((1024,), eps=1e-05, elementwise_affine=True)\n",
      "        (mlp): Sequential(\n",
      "          (0): Linear(in_features=1024, out_features=4096, bias=True)\n",
      "          (1): GELU(approximate='none')\n",
      "          (2): Linear(in_features=4096, out_features=1024, bias=True)\n",
      "        )\n",
      "        (mlp_ln): LayerNorm((1024,), eps=1e-05, elementwise_affine=True)\n",
      "      )\n",
      "    )\n",
      "    (ln): LayerNorm((1024,), eps=1e-05, elementwise_affine=True)\n",
      "  )\n",
      ")\n"
     ]
    },
    {
     "name": "stderr",
     "output_type": "stream",
     "text": [
      "100%|██████████| 44884/44884 [00:49<00:00, 902.11frames/s] \n"
     ]
    }
   ],
   "source": [
    "import whisper_timestamped as whisper_t\n",
    "import time\n",
    "\n",
    "load_audio_start  = time.time()\n",
    "audio = whisper_t.load_audio(\"./audio_samples/HamburgersPulpFiction.mp3\")\n",
    "load_audio_end = time.time()\n",
    "# audio = whisper_t.pad_or_trim(audio)\n",
    "\n",
    "load_model_start  = time.time()\n",
    "model = whisper_t.load_model(\"medium\")\n",
    "load_model_end = time.time()\n",
    "\n",
    "print(model)\n",
    "transcribe_start  = time.time()\n",
    "result = whisper_t.transcribe(model, audio, language='en')\n",
    "transcribe_end = time.time()"
   ]
  },
  {
   "cell_type": "code",
   "execution_count": 2,
   "metadata": {},
   "outputs": [
    {
     "name": "stdout",
     "output_type": "stream",
     "text": [
      "Load audio(hamburgers - pulp fiction, 7 minutes 28 seconds, mp3) time: 0.5555737018585205\n",
      "Load model(whisper timestamped, medium) time: 8.15245008468628\n",
      "Transcribe time: 50.042104959487915\n"
     ]
    }
   ],
   "source": [
    "load_audio_time = load_audio_end - load_audio_start\n",
    "load_model_time = load_model_end - load_model_start\n",
    "transcribe_time = transcribe_end - transcribe_start\n",
    "\n",
    "\n",
    "\n",
    "print(f'Load audio(hamburgers - pulp fiction, 7 minutes 28 seconds, mp3) time: {load_audio_time}')\n",
    "print(f'Load model(whisper timestamped, medium) time: {load_model_time}')\n",
    "print(f'Transcribe time: {transcribe_time}')"
   ]
  }
 ],
 "metadata": {
  "kernelspec": {
   "display_name": "Python 3 (ipykernel)",
   "language": "python",
   "name": "python3"
  },
  "language_info": {
   "codemirror_mode": {
    "name": "ipython",
    "version": 3
   },
   "file_extension": ".py",
   "mimetype": "text/x-python",
   "name": "python",
   "nbconvert_exporter": "python",
   "pygments_lexer": "ipython3",
   "version": "3.1.undefined"
  }
 },
 "nbformat": 4,
 "nbformat_minor": 4
}
