{
 "cells": [
  {
   "cell_type": "code",
   "execution_count": 12,
   "metadata": {},
   "outputs": [],
   "source": [
    "import pandas as pd\n",
    "\n",
    "olid_test_labels_df = pd.read_csv('OLIDv1.0/labels-levela.csv', sep=',', names=['id', 'label'])\n",
    "olid_test_tweets_df = pd.read_csv('OLIDv1.0/testset-levela.tsv', sep='\\t')"
   ]
  },
  {
   "cell_type": "code",
   "execution_count": 13,
   "metadata": {},
   "outputs": [],
   "source": [
    "olid_test_labels_df['label'] = olid_test_labels_df['label'].map({'OFF': 1, 'NOT': 0})"
   ]
  },
  {
   "cell_type": "code",
   "execution_count": 14,
   "metadata": {},
   "outputs": [],
   "source": [
    "# olid_test_labels_df.head()\n",
    "merged_df = pd.merge(olid_test_tweets_df, olid_test_labels_df, on='id')\n"
   ]
  },
  {
   "cell_type": "code",
   "execution_count": 19,
   "metadata": {},
   "outputs": [],
   "source": [
    "merged_df = merged_df.drop(columns=['id'])"
   ]
  },
  {
   "cell_type": "code",
   "execution_count": 20,
   "metadata": {},
   "outputs": [
    {
     "name": "stderr",
     "output_type": "stream",
     "text": [
      "<>:17: SyntaxWarning: invalid escape sequence '\\d'\n",
      "<>:17: SyntaxWarning: invalid escape sequence '\\d'\n",
      "/tmp/ipykernel_2813/73532889.py:17: SyntaxWarning: invalid escape sequence '\\d'\n",
      "  df.loc[:, col_name] = df.loc[:, col_name].str.replace('\\d+','', regex=True) #Remove numbers\n"
     ]
    }
   ],
   "source": [
    "\n",
    "def remap_labels(df, col_name):\n",
    "    df[col_name] = df[col_name].map({'OFF': 1, 'NOT': 0})\n",
    "    return df\n",
    "def remap_HSO_labels(df):\n",
    "    df['class'] = df['class'].map({2: 0, 1: 1, 0: 1}) \n",
    "    return df\n",
    "\n",
    "def remap_tweets(df, col_name):\n",
    "    df.loc[:, col_name] = df.loc[:, col_name].str.replace('@USER', '') #Remove mentions (@USER)\n",
    "    df.loc[:, col_name] = df.loc[:, col_name].str.replace('URL', '') #Remove URLs\n",
    "    pat = r'(http|ftp|https):\\/\\/([\\w_-]+(?:(?:\\.[\\w_-]+)+))([\\w.,@?^=%&:\\/~+#-]*[\\w@?^=%&\\/~+#-])' # remove URLS\n",
    "    df.loc[:, col_name] = df.loc[:, col_name].str.replace(pat, ' ', regex=True)\n",
    "    df.loc[:, col_name] = df.loc[:, col_name].str.replace('&amp', 'and') #Replace ampersand (&) with and\n",
    "    df.loc[:, col_name] = df.loc[:, col_name].str.replace('&lt','') #Remove &lt\n",
    "    df.loc[:, col_name] = df.loc[:, col_name].str.replace('&gt','') #Remove &gt\n",
    "    df.loc[:, col_name] = df.loc[:, col_name].str.replace('\\n',' ') #Remove \\n\n",
    "    df.loc[:, col_name] = df.loc[:, col_name].str.replace('\\d+','', regex=True) #Remove numbers\n",
    "    pat = r'[^\\w\\s]' # remove the emojis and other special characters\n",
    "    df.loc[:, col_name] = df.loc[:, col_name].str.replace(pat, '', regex=True)\n",
    "    #remove white space before and after the tweet\n",
    "    df.loc[:, col_name] = df.loc[:, col_name].str.strip()\n",
    "    df.loc[:, col_name] = df.loc[:, col_name].str.lower() #Lowercase\n",
    "    \n",
    "    # not needed outside of english\n",
    "    contractions_dict = {\n",
    "        r\"\\bive\\b\": \"i have\",\n",
    "        r\"\\byoure\\b\": \"you are\",\n",
    "        r\"\\bitd\\b\": \"it would\",\n",
    "        r\"\\bcant\\b\": \"cannot\",\n",
    "        r\"\\bdont\\b\": \"do not\",\n",
    "        r\"\\bwont\\b\": \"will not\",\n",
    "        r\"\\btho\\b\": \"though\",\n",
    "        r\"\\bim\\b\": \"i am\",\n",
    "        r\"\\bhes\\b\": \"he is\",\n",
    "        r\"\\bshes\\b\": \"she is\",\n",
    "        r\"\\bits\\b\": \"it is\",\n",
    "        r\"\\bwere\\b\": \"we are\",\n",
    "        r\"\\btheyre\\b\": \"they are\",\n",
    "        r\"\\bshouldnt\\b\": \"should not\",\n",
    "        r\"\\bwouldnt\\b\": \"would not\",\n",
    "        r\"\\bcouldnt\\b\": \"could not\",\n",
    "        r\"\\bisnt\\b\": \"is not\",\n",
    "        r\"\\barent\\b\": \"are not\",\n",
    "        r\"\\bhavent\\b\": \"have not\",\n",
    "        r\"\\bhasnt\\b\": \"has not\",\n",
    "        r\"\\bhadnt\\b\": \"had not\",\n",
    "        r\"\\bwasnt\\b\": \"was not\",\n",
    "        r\"\\bwerent\\b\": \"were not\"\n",
    "    }\n",
    "    \n",
    "    # df[col_name] = df[col_name].replace(contractions_dict, regex=True) # Replace some popular contractions\n",
    "    \n",
    "    \n",
    "    return df"
   ]
  },
  {
   "cell_type": "code",
   "execution_count": 21,
   "metadata": {},
   "outputs": [],
   "source": [
    "OLID_test = remap_tweets(merged_df, 'tweet')\n"
   ]
  },
  {
   "cell_type": "code",
   "execution_count": 22,
   "metadata": {},
   "outputs": [
    {
     "data": {
      "text/html": [
       "<div>\n",
       "<style scoped>\n",
       "    .dataframe tbody tr th:only-of-type {\n",
       "        vertical-align: middle;\n",
       "    }\n",
       "\n",
       "    .dataframe tbody tr th {\n",
       "        vertical-align: top;\n",
       "    }\n",
       "\n",
       "    .dataframe thead th {\n",
       "        text-align: right;\n",
       "    }\n",
       "</style>\n",
       "<table border=\"1\" class=\"dataframe\">\n",
       "  <thead>\n",
       "    <tr style=\"text-align: right;\">\n",
       "      <th></th>\n",
       "      <th>tweet</th>\n",
       "      <th>label</th>\n",
       "    </tr>\n",
       "  </thead>\n",
       "  <tbody>\n",
       "    <tr>\n",
       "      <th>0</th>\n",
       "      <td>whoisq wherestheserver dumpnike declasfisa dem...</td>\n",
       "      <td>1</td>\n",
       "    </tr>\n",
       "    <tr>\n",
       "      <th>1</th>\n",
       "      <td>constitutionday is revered by conservatives ha...</td>\n",
       "      <td>0</td>\n",
       "    </tr>\n",
       "    <tr>\n",
       "      <th>2</th>\n",
       "      <td>foxnews nra maga potus trump ndamendment rnc u...</td>\n",
       "      <td>0</td>\n",
       "    </tr>\n",
       "    <tr>\n",
       "      <th>3</th>\n",
       "      <td>watching boomer getting the news that she is s...</td>\n",
       "      <td>0</td>\n",
       "    </tr>\n",
       "    <tr>\n",
       "      <th>4</th>\n",
       "      <td>nopasaran unity demo to oppose the farright in...</td>\n",
       "      <td>1</td>\n",
       "    </tr>\n",
       "  </tbody>\n",
       "</table>\n",
       "</div>"
      ],
      "text/plain": [
       "                                               tweet  label\n",
       "0  whoisq wherestheserver dumpnike declasfisa dem...      1\n",
       "1  constitutionday is revered by conservatives ha...      0\n",
       "2  foxnews nra maga potus trump ndamendment rnc u...      0\n",
       "3  watching boomer getting the news that she is s...      0\n",
       "4  nopasaran unity demo to oppose the farright in...      1"
      ]
     },
     "execution_count": 22,
     "metadata": {},
     "output_type": "execute_result"
    }
   ],
   "source": [
    "OLID_test.head()"
   ]
  },
  {
   "cell_type": "code",
   "execution_count": 23,
   "metadata": {},
   "outputs": [],
   "source": [
    "OLID_test.to_csv('datasets/cleaned_OLID_test.tsv', sep='\\t')"
   ]
  }
 ],
 "metadata": {
  "kernelspec": {
   "display_name": "nvidia-newest",
   "language": "python",
   "name": "python3"
  },
  "language_info": {
   "codemirror_mode": {
    "name": "ipython",
    "version": 3
   },
   "file_extension": ".py",
   "mimetype": "text/x-python",
   "name": "python",
   "nbconvert_exporter": "python",
   "pygments_lexer": "ipython3",
   "version": "3.1.-1"
  }
 },
 "nbformat": 4,
 "nbformat_minor": 2
}
